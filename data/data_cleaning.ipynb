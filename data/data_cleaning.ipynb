{
 "cells": [
  {
   "cell_type": "markdown",
   "id": "c8ed6450",
   "metadata": {},
   "source": [
    "# Preprocessing and Data Cleaning"
   ]
  },
  {
   "cell_type": "markdown",
   "id": "f30817ec",
   "metadata": {},
   "source": [
    "**This notebook is just for reference, there's no need to run this.  \n",
    "the clean data is saved at the end and uploaded in the main script.**"
   ]
  },
  {
   "cell_type": "code",
   "execution_count": 11,
   "id": "97851ace",
   "metadata": {},
   "outputs": [],
   "source": [
    "import pandas as pd\n",
    "import numpy as np"
   ]
  },
  {
   "cell_type": "code",
   "execution_count": 36,
   "id": "5fe7f998",
   "metadata": {},
   "outputs": [
    {
     "data": {
      "text/html": [
       "<div>\n",
       "<style scoped>\n",
       "    .dataframe tbody tr th:only-of-type {\n",
       "        vertical-align: middle;\n",
       "    }\n",
       "\n",
       "    .dataframe tbody tr th {\n",
       "        vertical-align: top;\n",
       "    }\n",
       "\n",
       "    .dataframe thead th {\n",
       "        text-align: right;\n",
       "    }\n",
       "</style>\n",
       "<table border=\"1\" class=\"dataframe\">\n",
       "  <thead>\n",
       "    <tr style=\"text-align: right;\">\n",
       "      <th></th>\n",
       "      <th>kpmag</th>\n",
       "      <th>numax</th>\n",
       "      <th>e_numax</th>\n",
       "      <th>delnu</th>\n",
       "      <th>e_delnu</th>\n",
       "      <th>a</th>\n",
       "      <th>e_a</th>\n",
       "      <th>width</th>\n",
       "      <th>e_width</th>\n",
       "      <th>teff</th>\n",
       "      <th>...</th>\n",
       "      <th>e_nocorr</th>\n",
       "      <th>rgbcorm</th>\n",
       "      <th>e_rgbcorm</th>\n",
       "      <th>rgbcorr</th>\n",
       "      <th>e_rgbcorr</th>\n",
       "      <th>clcorm</th>\n",
       "      <th>e_clcorm</th>\n",
       "      <th>clcorr</th>\n",
       "      <th>e_clcorr</th>\n",
       "      <th>phase</th>\n",
       "    </tr>\n",
       "  </thead>\n",
       "  <tbody>\n",
       "    <tr>\n",
       "      <th>358</th>\n",
       "      <td>10.980</td>\n",
       "      <td>36.18</td>\n",
       "      <td>0.86</td>\n",
       "      <td>3.937</td>\n",
       "      <td>0.015</td>\n",
       "      <td>68.9</td>\n",
       "      <td>3.3</td>\n",
       "      <td>14.4</td>\n",
       "      <td>1.9</td>\n",
       "      <td>4806</td>\n",
       "      <td>...</td>\n",
       "      <td>0.40</td>\n",
       "      <td>1.49</td>\n",
       "      <td>0.14</td>\n",
       "      <td>11.81</td>\n",
       "      <td>0.38</td>\n",
       "      <td>1.66</td>\n",
       "      <td>0.15</td>\n",
       "      <td>12.45</td>\n",
       "      <td>0.40</td>\n",
       "      <td>2</td>\n",
       "    </tr>\n",
       "    <tr>\n",
       "      <th>179</th>\n",
       "      <td>13.000</td>\n",
       "      <td>34.83</td>\n",
       "      <td>0.84</td>\n",
       "      <td>4.116</td>\n",
       "      <td>0.038</td>\n",
       "      <td>99.6</td>\n",
       "      <td>4.1</td>\n",
       "      <td>15.1</td>\n",
       "      <td>1.3</td>\n",
       "      <td>5202</td>\n",
       "      <td>...</td>\n",
       "      <td>0.43</td>\n",
       "      <td>1.46</td>\n",
       "      <td>0.15</td>\n",
       "      <td>11.68</td>\n",
       "      <td>0.44</td>\n",
       "      <td>1.44</td>\n",
       "      <td>0.15</td>\n",
       "      <td>11.62</td>\n",
       "      <td>0.43</td>\n",
       "      <td>2</td>\n",
       "    </tr>\n",
       "    <tr>\n",
       "      <th>2225</th>\n",
       "      <td>12.651</td>\n",
       "      <td>270.60</td>\n",
       "      <td>8.96</td>\n",
       "      <td>18.630</td>\n",
       "      <td>0.059</td>\n",
       "      <td></td>\n",
       "      <td></td>\n",
       "      <td></td>\n",
       "      <td></td>\n",
       "      <td>4944</td>\n",
       "      <td>...</td>\n",
       "      <td>0.16</td>\n",
       "      <td>1.42</td>\n",
       "      <td>0.15</td>\n",
       "      <td>4.18</td>\n",
       "      <td>0.16</td>\n",
       "      <td>1.49</td>\n",
       "      <td>0.16</td>\n",
       "      <td>4.29</td>\n",
       "      <td>0.16</td>\n",
       "      <td>1</td>\n",
       "    </tr>\n",
       "    <tr>\n",
       "      <th>3744</th>\n",
       "      <td>13.060</td>\n",
       "      <td>41.60</td>\n",
       "      <td>0.77</td>\n",
       "      <td>4.412</td>\n",
       "      <td>0.022</td>\n",
       "      <td>76.4</td>\n",
       "      <td>4.4</td>\n",
       "      <td>16.6</td>\n",
       "      <td>1.6</td>\n",
       "      <td>4802</td>\n",
       "      <td>...</td>\n",
       "      <td>0.34</td>\n",
       "      <td>1.45</td>\n",
       "      <td>0.12</td>\n",
       "      <td>10.88</td>\n",
       "      <td>0.32</td>\n",
       "      <td>1.62</td>\n",
       "      <td>0.13</td>\n",
       "      <td>11.47</td>\n",
       "      <td>0.34</td>\n",
       "      <td>2</td>\n",
       "    </tr>\n",
       "    <tr>\n",
       "      <th>13458</th>\n",
       "      <td>13.260</td>\n",
       "      <td>79.39</td>\n",
       "      <td>0.54</td>\n",
       "      <td>7.733</td>\n",
       "      <td>0.014</td>\n",
       "      <td>67.0</td>\n",
       "      <td>2.6</td>\n",
       "      <td>25.0</td>\n",
       "      <td>1.2</td>\n",
       "      <td>5134</td>\n",
       "      <td>...</td>\n",
       "      <td>0.16</td>\n",
       "      <td>1.33</td>\n",
       "      <td>0.08</td>\n",
       "      <td>7.41</td>\n",
       "      <td>0.16</td>\n",
       "      <td>1.35</td>\n",
       "      <td>0.08</td>\n",
       "      <td>7.46</td>\n",
       "      <td>0.16</td>\n",
       "      <td>1</td>\n",
       "    </tr>\n",
       "    <tr>\n",
       "      <th>5870</th>\n",
       "      <td>13.850</td>\n",
       "      <td>47.50</td>\n",
       "      <td>0.45</td>\n",
       "      <td>5.183</td>\n",
       "      <td>0.016</td>\n",
       "      <td>97.3</td>\n",
       "      <td>5.8</td>\n",
       "      <td>14.3</td>\n",
       "      <td>0.9</td>\n",
       "      <td>4894</td>\n",
       "      <td>...</td>\n",
       "      <td>0.22</td>\n",
       "      <td>1.20</td>\n",
       "      <td>0.08</td>\n",
       "      <td>9.20</td>\n",
       "      <td>0.21</td>\n",
       "      <td>1.33</td>\n",
       "      <td>0.09</td>\n",
       "      <td>9.68</td>\n",
       "      <td>0.23</td>\n",
       "      <td>1</td>\n",
       "    </tr>\n",
       "    <tr>\n",
       "      <th>14645</th>\n",
       "      <td>13.760</td>\n",
       "      <td>27.37</td>\n",
       "      <td>1.06</td>\n",
       "      <td>3.849</td>\n",
       "      <td>0.041</td>\n",
       "      <td>137.7</td>\n",
       "      <td>6.6</td>\n",
       "      <td>12.2</td>\n",
       "      <td>2.6</td>\n",
       "      <td>5096</td>\n",
       "      <td>...</td>\n",
       "      <td>0.50</td>\n",
       "      <td>0.89</td>\n",
       "      <td>0.12</td>\n",
       "      <td>10.36</td>\n",
       "      <td>0.51</td>\n",
       "      <td>0.89</td>\n",
       "      <td>0.12</td>\n",
       "      <td>10.31</td>\n",
       "      <td>0.50</td>\n",
       "      <td>2</td>\n",
       "    </tr>\n",
       "    <tr>\n",
       "      <th>11663</th>\n",
       "      <td>12.510</td>\n",
       "      <td>27.23</td>\n",
       "      <td>0.66</td>\n",
       "      <td>3.588</td>\n",
       "      <td>0.092</td>\n",
       "      <td>131.7</td>\n",
       "      <td>5.4</td>\n",
       "      <td>11.3</td>\n",
       "      <td>1.3</td>\n",
       "      <td>5190</td>\n",
       "      <td>...</td>\n",
       "      <td>0.72</td>\n",
       "      <td>1.21</td>\n",
       "      <td>0.17</td>\n",
       "      <td>12.06</td>\n",
       "      <td>0.73</td>\n",
       "      <td>1.18</td>\n",
       "      <td>0.16</td>\n",
       "      <td>11.88</td>\n",
       "      <td>0.72</td>\n",
       "      <td>2</td>\n",
       "    </tr>\n",
       "    <tr>\n",
       "      <th>148</th>\n",
       "      <td>11.510</td>\n",
       "      <td>81.28</td>\n",
       "      <td>1.06</td>\n",
       "      <td>6.955</td>\n",
       "      <td>0.045</td>\n",
       "      <td>37.6</td>\n",
       "      <td>1.5</td>\n",
       "      <td>30.4</td>\n",
       "      <td>1.9</td>\n",
       "      <td>4978</td>\n",
       "      <td>...</td>\n",
       "      <td>0.23</td>\n",
       "      <td>2.02</td>\n",
       "      <td>0.13</td>\n",
       "      <td>9.11</td>\n",
       "      <td>0.22</td>\n",
       "      <td>2.12</td>\n",
       "      <td>0.14</td>\n",
       "      <td>9.33</td>\n",
       "      <td>0.23</td>\n",
       "      <td>2</td>\n",
       "    </tr>\n",
       "    <tr>\n",
       "      <th>8069</th>\n",
       "      <td>12.830</td>\n",
       "      <td>49.07</td>\n",
       "      <td>0.66</td>\n",
       "      <td>4.899</td>\n",
       "      <td>0.022</td>\n",
       "      <td>74.7</td>\n",
       "      <td>3.0</td>\n",
       "      <td>17.4</td>\n",
       "      <td>0.9</td>\n",
       "      <td>4766</td>\n",
       "      <td>...</td>\n",
       "      <td>0.25</td>\n",
       "      <td>1.59</td>\n",
       "      <td>0.10</td>\n",
       "      <td>10.49</td>\n",
       "      <td>0.24</td>\n",
       "      <td>1.76</td>\n",
       "      <td>0.11</td>\n",
       "      <td>11.04</td>\n",
       "      <td>0.26</td>\n",
       "      <td>1</td>\n",
       "    </tr>\n",
       "  </tbody>\n",
       "</table>\n",
       "<p>10 rows × 28 columns</p>\n",
       "</div>"
      ],
      "text/plain": [
       "        kpmag   numax  e_numax   delnu  e_delnu      a    e_a  width e_width  \\\n",
       "358    10.980   36.18     0.86   3.937    0.015   68.9    3.3   14.4     1.9   \n",
       "179    13.000   34.83     0.84   4.116    0.038   99.6    4.1   15.1     1.3   \n",
       "2225   12.651  270.60     8.96  18.630    0.059                                \n",
       "3744   13.060   41.60     0.77   4.412    0.022   76.4    4.4   16.6     1.6   \n",
       "13458  13.260   79.39     0.54   7.733    0.014   67.0    2.6   25.0     1.2   \n",
       "5870   13.850   47.50     0.45   5.183    0.016   97.3    5.8   14.3     0.9   \n",
       "14645  13.760   27.37     1.06   3.849    0.041  137.7    6.6   12.2     2.6   \n",
       "11663  12.510   27.23     0.66   3.588    0.092  131.7    5.4   11.3     1.3   \n",
       "148    11.510   81.28     1.06   6.955    0.045   37.6    1.5   30.4     1.9   \n",
       "8069   12.830   49.07     0.66   4.899    0.022   74.7    3.0   17.4     0.9   \n",
       "\n",
       "       teff  ...  e_nocorr  rgbcorm  e_rgbcorm  rgbcorr  e_rgbcorr  clcorm  \\\n",
       "358    4806  ...      0.40     1.49       0.14    11.81       0.38    1.66   \n",
       "179    5202  ...      0.43     1.46       0.15    11.68       0.44    1.44   \n",
       "2225   4944  ...      0.16     1.42       0.15     4.18       0.16    1.49   \n",
       "3744   4802  ...      0.34     1.45       0.12    10.88       0.32    1.62   \n",
       "13458  5134  ...      0.16     1.33       0.08     7.41       0.16    1.35   \n",
       "5870   4894  ...      0.22     1.20       0.08     9.20       0.21    1.33   \n",
       "14645  5096  ...      0.50     0.89       0.12    10.36       0.51    0.89   \n",
       "11663  5190  ...      0.72     1.21       0.17    12.06       0.73    1.18   \n",
       "148    4978  ...      0.23     2.02       0.13     9.11       0.22    2.12   \n",
       "8069   4766  ...      0.25     1.59       0.10    10.49       0.24    1.76   \n",
       "\n",
       "       e_clcorm  clcorr  e_clcorr  phase  \n",
       "358        0.15   12.45      0.40      2  \n",
       "179        0.15   11.62      0.43      2  \n",
       "2225       0.16    4.29      0.16      1  \n",
       "3744       0.13   11.47      0.34      2  \n",
       "13458      0.08    7.46      0.16      1  \n",
       "5870       0.09    9.68      0.23      1  \n",
       "14645      0.12   10.31      0.50      2  \n",
       "11663      0.16   11.88      0.72      2  \n",
       "148        0.14    9.33      0.23      2  \n",
       "8069       0.11   11.04      0.26      1  \n",
       "\n",
       "[10 rows x 28 columns]"
      ]
     },
     "execution_count": 36,
     "metadata": {},
     "output_type": "execute_result"
    }
   ],
   "source": [
    "upload = pd.read_csv('raw_data.csv').rename(str.lower, axis='columns')\n",
    "upload.sample(10)"
   ]
  },
  {
   "cell_type": "code",
   "execution_count": 75,
   "id": "785ea4ab",
   "metadata": {},
   "outputs": [],
   "source": [
    "df = upload.copy()"
   ]
  },
  {
   "cell_type": "markdown",
   "id": "6ef4d70b",
   "metadata": {},
   "source": [
    "## column removal"
   ]
  },
  {
   "cell_type": "code",
   "execution_count": 39,
   "id": "ec402cea",
   "metadata": {},
   "outputs": [],
   "source": [
    "col_df = df.copy()"
   ]
  },
  {
   "cell_type": "markdown",
   "id": "d28fd6d0",
   "metadata": {},
   "source": [
    "columns that start in *e_* describe the error in measurement, and are irrelevant for the calculation process."
   ]
  },
  {
   "cell_type": "code",
   "execution_count": 40,
   "id": "68dbaaec",
   "metadata": {},
   "outputs": [
    {
     "data": {
      "text/plain": [
       "Index(['kpmag', 'numax', 'delnu', 'a', 'width', 'teff', 'log(g)', '[fe/h]',\n",
       "       'nocorm', 'nocorr', 'rgbcorm', 'rgbcorr', 'clcorm', 'clcorr', 'phase'],\n",
       "      dtype='object')"
      ]
     },
     "execution_count": 40,
     "metadata": {},
     "output_type": "execute_result"
    }
   ],
   "source": [
    "col_df.drop(\n",
    "    columns=df.columns[\n",
    "        df.columns.str.contains('e_')],\n",
    "    inplace=True)\n",
    "\n",
    "col_df.columns"
   ]
  },
  {
   "cell_type": "markdown",
   "id": "f46b9914",
   "metadata": {},
   "source": [
    "the mass and radius corrections can be averaged"
   ]
  },
  {
   "cell_type": "code",
   "execution_count": 41,
   "id": "15088908",
   "metadata": {},
   "outputs": [
    {
     "data": {
      "text/html": [
       "<div>\n",
       "<style scoped>\n",
       "    .dataframe tbody tr th:only-of-type {\n",
       "        vertical-align: middle;\n",
       "    }\n",
       "\n",
       "    .dataframe tbody tr th {\n",
       "        vertical-align: top;\n",
       "    }\n",
       "\n",
       "    .dataframe thead th {\n",
       "        text-align: right;\n",
       "    }\n",
       "</style>\n",
       "<table border=\"1\" class=\"dataframe\">\n",
       "  <thead>\n",
       "    <tr style=\"text-align: right;\">\n",
       "      <th></th>\n",
       "      <th>nocorm</th>\n",
       "      <th>nocorr</th>\n",
       "      <th>rgbcorm</th>\n",
       "      <th>rgbcorr</th>\n",
       "      <th>clcorm</th>\n",
       "      <th>clcorr</th>\n",
       "    </tr>\n",
       "  </thead>\n",
       "  <tbody>\n",
       "    <tr>\n",
       "      <th>3351</th>\n",
       "      <td>1.69</td>\n",
       "      <td>10.97</td>\n",
       "      <td>1.60</td>\n",
       "      <td>10.66</td>\n",
       "      <td>1.73</td>\n",
       "      <td>11.09</td>\n",
       "    </tr>\n",
       "    <tr>\n",
       "      <th>12080</th>\n",
       "      <td>1.14</td>\n",
       "      <td>3.89</td>\n",
       "      <td>1.14</td>\n",
       "      <td>3.89</td>\n",
       "      <td>1.15</td>\n",
       "      <td>3.91</td>\n",
       "    </tr>\n",
       "    <tr>\n",
       "      <th>15361</th>\n",
       "      <td>1.38</td>\n",
       "      <td>7.51</td>\n",
       "      <td>1.36</td>\n",
       "      <td>7.43</td>\n",
       "      <td>1.42</td>\n",
       "      <td>7.62</td>\n",
       "    </tr>\n",
       "  </tbody>\n",
       "</table>\n",
       "</div>"
      ],
      "text/plain": [
       "       nocorm  nocorr  rgbcorm  rgbcorr  clcorm  clcorr\n",
       "3351     1.69   10.97     1.60    10.66    1.73   11.09\n",
       "12080    1.14    3.89     1.14     3.89    1.15    3.91\n",
       "15361    1.38    7.51     1.36     7.43    1.42    7.62"
      ]
     },
     "execution_count": 41,
     "metadata": {},
     "output_type": "execute_result"
    }
   ],
   "source": [
    "col_df[col_df.columns[\n",
    "        col_df.columns.str.contains('cor')]\n",
    "          ].sample(3)"
   ]
  },
  {
   "cell_type": "code",
   "execution_count": 42,
   "id": "b0846060",
   "metadata": {},
   "outputs": [
    {
     "data": {
      "text/html": [
       "<div>\n",
       "<style scoped>\n",
       "    .dataframe tbody tr th:only-of-type {\n",
       "        vertical-align: middle;\n",
       "    }\n",
       "\n",
       "    .dataframe tbody tr th {\n",
       "        vertical-align: top;\n",
       "    }\n",
       "\n",
       "    .dataframe thead th {\n",
       "        text-align: right;\n",
       "    }\n",
       "</style>\n",
       "<table border=\"1\" class=\"dataframe\">\n",
       "  <thead>\n",
       "    <tr style=\"text-align: right;\">\n",
       "      <th></th>\n",
       "      <th>kpmag</th>\n",
       "      <th>numax</th>\n",
       "      <th>delnu</th>\n",
       "      <th>a</th>\n",
       "      <th>width</th>\n",
       "      <th>teff</th>\n",
       "      <th>log(g)</th>\n",
       "      <th>[fe/h]</th>\n",
       "      <th>phase</th>\n",
       "      <th>rad</th>\n",
       "      <th>mass</th>\n",
       "    </tr>\n",
       "  </thead>\n",
       "  <tbody>\n",
       "    <tr>\n",
       "      <th>7154</th>\n",
       "      <td>11.65</td>\n",
       "      <td>33.83</td>\n",
       "      <td>3.952</td>\n",
       "      <td>76.0</td>\n",
       "      <td>14.3</td>\n",
       "      <td>5302</td>\n",
       "      <td>2.459</td>\n",
       "      <td>-0.92</td>\n",
       "      <td>2</td>\n",
       "      <td>37.07</td>\n",
       "      <td>4.81</td>\n",
       "    </tr>\n",
       "    <tr>\n",
       "      <th>2342</th>\n",
       "      <td>13.56</td>\n",
       "      <td>75.07</td>\n",
       "      <td>7.056</td>\n",
       "      <td>56.0</td>\n",
       "      <td>25.4</td>\n",
       "      <td>4835</td>\n",
       "      <td>2.785</td>\n",
       "      <td>-0.35</td>\n",
       "      <td>1</td>\n",
       "      <td>24.04</td>\n",
       "      <td>4.29</td>\n",
       "    </tr>\n",
       "    <tr>\n",
       "      <th>14547</th>\n",
       "      <td>12.20</td>\n",
       "      <td>183.99</td>\n",
       "      <td>14.456</td>\n",
       "      <td>38.9</td>\n",
       "      <td>52.8</td>\n",
       "      <td>4888</td>\n",
       "      <td>3.177</td>\n",
       "      <td>-0.08</td>\n",
       "      <td>1</td>\n",
       "      <td>14.25</td>\n",
       "      <td>3.71</td>\n",
       "    </tr>\n",
       "    <tr>\n",
       "      <th>15149</th>\n",
       "      <td>13.11</td>\n",
       "      <td>12.62</td>\n",
       "      <td>1.875</td>\n",
       "      <td>221.4</td>\n",
       "      <td>5.1</td>\n",
       "      <td>4360</td>\n",
       "      <td>1.988</td>\n",
       "      <td>-0.25</td>\n",
       "      <td>1</td>\n",
       "      <td>53.62</td>\n",
       "      <td>3.40</td>\n",
       "    </tr>\n",
       "    <tr>\n",
       "      <th>1010</th>\n",
       "      <td>11.51</td>\n",
       "      <td>82.90</td>\n",
       "      <td>6.795</td>\n",
       "      <td>34.7</td>\n",
       "      <td>30.4</td>\n",
       "      <td>5062</td>\n",
       "      <td>2.838</td>\n",
       "      <td>0.12</td>\n",
       "      <td>2</td>\n",
       "      <td>30.11</td>\n",
       "      <td>7.59</td>\n",
       "    </tr>\n",
       "    <tr>\n",
       "      <th>11643</th>\n",
       "      <td>11.08</td>\n",
       "      <td>32.60</td>\n",
       "      <td>3.990</td>\n",
       "      <td>109.8</td>\n",
       "      <td>13.0</td>\n",
       "      <td>4893</td>\n",
       "      <td>2.425</td>\n",
       "      <td>-0.31</td>\n",
       "      <td>2</td>\n",
       "      <td>33.03</td>\n",
       "      <td>3.53</td>\n",
       "    </tr>\n",
       "    <tr>\n",
       "      <th>1418</th>\n",
       "      <td>11.63</td>\n",
       "      <td>38.92</td>\n",
       "      <td>4.165</td>\n",
       "      <td>88.0</td>\n",
       "      <td>16.6</td>\n",
       "      <td>4947</td>\n",
       "      <td>2.505</td>\n",
       "      <td>0.04</td>\n",
       "      <td>2</td>\n",
       "      <td>36.69</td>\n",
       "      <td>5.23</td>\n",
       "    </tr>\n",
       "    <tr>\n",
       "      <th>3044</th>\n",
       "      <td>12.94</td>\n",
       "      <td>34.92</td>\n",
       "      <td>3.938</td>\n",
       "      <td>91.2</td>\n",
       "      <td>13.9</td>\n",
       "      <td>5035</td>\n",
       "      <td>2.461</td>\n",
       "      <td>0.15</td>\n",
       "      <td>2</td>\n",
       "      <td>37.34</td>\n",
       "      <td>4.91</td>\n",
       "    </tr>\n",
       "    <tr>\n",
       "      <th>14131</th>\n",
       "      <td>13.06</td>\n",
       "      <td>28.57</td>\n",
       "      <td>3.882</td>\n",
       "      <td>146.5</td>\n",
       "      <td>12.5</td>\n",
       "      <td>5190</td>\n",
       "      <td>2.381</td>\n",
       "      <td>-0.26</td>\n",
       "      <td>2</td>\n",
       "      <td>32.08</td>\n",
       "      <td>3.01</td>\n",
       "    </tr>\n",
       "    <tr>\n",
       "      <th>9680</th>\n",
       "      <td>13.35</td>\n",
       "      <td>36.17</td>\n",
       "      <td>4.333</td>\n",
       "      <td>114.3</td>\n",
       "      <td>12.2</td>\n",
       "      <td>5152</td>\n",
       "      <td>2.482</td>\n",
       "      <td>-0.62</td>\n",
       "      <td>1</td>\n",
       "      <td>32.26</td>\n",
       "      <td>3.83</td>\n",
       "    </tr>\n",
       "  </tbody>\n",
       "</table>\n",
       "</div>"
      ],
      "text/plain": [
       "       kpmag   numax   delnu      a  width  teff  log(g)  [fe/h]  phase  \\\n",
       "7154   11.65   33.83   3.952   76.0   14.3  5302   2.459   -0.92      2   \n",
       "2342   13.56   75.07   7.056   56.0   25.4  4835   2.785   -0.35      1   \n",
       "14547  12.20  183.99  14.456   38.9   52.8  4888   3.177   -0.08      1   \n",
       "15149  13.11   12.62   1.875  221.4    5.1  4360   1.988   -0.25      1   \n",
       "1010   11.51   82.90   6.795   34.7   30.4  5062   2.838    0.12      2   \n",
       "11643  11.08   32.60   3.990  109.8   13.0  4893   2.425   -0.31      2   \n",
       "1418   11.63   38.92   4.165   88.0   16.6  4947   2.505    0.04      2   \n",
       "3044   12.94   34.92   3.938   91.2   13.9  5035   2.461    0.15      2   \n",
       "14131  13.06   28.57   3.882  146.5   12.5  5190   2.381   -0.26      2   \n",
       "9680   13.35   36.17   4.333  114.3   12.2  5152   2.482   -0.62      1   \n",
       "\n",
       "         rad  mass  \n",
       "7154   37.07  4.81  \n",
       "2342   24.04  4.29  \n",
       "14547  14.25  3.71  \n",
       "15149  53.62  3.40  \n",
       "1010   30.11  7.59  \n",
       "11643  33.03  3.53  \n",
       "1418   36.69  5.23  \n",
       "3044   37.34  4.91  \n",
       "14131  32.08  3.01  \n",
       "9680   32.26  3.83  "
      ]
     },
     "execution_count": 42,
     "metadata": {},
     "output_type": "execute_result"
    }
   ],
   "source": [
    "col_df['rad'] = col_df.nocorr + col_df.rgbcorr + col_df.clcorr\n",
    "col_df['mass'] = col_df.nocorm + col_df.rgbcorm + col_df.clcorm\n",
    "\n",
    "col_df.drop(\n",
    "    columns=col_df.columns[\n",
    "        col_df.columns.str.contains('cor')],\n",
    "    inplace=True)\n",
    "\n",
    "col_df.sample(10)"
   ]
  },
  {
   "cell_type": "markdown",
   "id": "53d62320",
   "metadata": {},
   "source": [
    "renaming and reordering columns"
   ]
  },
  {
   "cell_type": "code",
   "execution_count": 43,
   "id": "3ddcd891",
   "metadata": {},
   "outputs": [],
   "source": [
    "col_df.rename(\n",
    "    {\n",
    "        'kpmag': 'ap_mag',  # apparent magnitude (brightness)\n",
    "        'numax': 'freq',  # maximum oscillation frequency\n",
    "        'delnu': 'fr_sep',  # frequency separation of oscillation modes\n",
    "        'a': 'amp',  # oscillation amplitude\n",
    "        'width': 'pow_ex',  # power excess width\n",
    "        'teff': 'temp',  # effective temperature\n",
    "        'log(g)': 'grav', # surface gravity logarithm\n",
    "        '[fe/h]': 'metal',  # metallicity\n",
    "    },\n",
    "axis='columns',\n",
    "inplace=True)"
   ]
  },
  {
   "cell_type": "code",
   "execution_count": 44,
   "id": "d8b18cdd",
   "metadata": {},
   "outputs": [
    {
     "data": {
      "text/plain": [
       "Index(['phase', 'ap_mag', 'freq', 'fr_sep', 'amp', 'pow_ex', 'temp', 'grav',\n",
       "       'metal', 'rad', 'mass'],\n",
       "      dtype='object')"
      ]
     },
     "execution_count": 44,
     "metadata": {},
     "output_type": "execute_result"
    }
   ],
   "source": [
    "col_df = col_df[['phase'] + list(col_df.columns.drop('phase'))]\n",
    "col_df.columns"
   ]
  },
  {
   "cell_type": "code",
   "execution_count": 80,
   "id": "816807c8",
   "metadata": {},
   "outputs": [],
   "source": [
    "df = col_df.copy()"
   ]
  },
  {
   "cell_type": "markdown",
   "id": "1fbe6616",
   "metadata": {},
   "source": [
    "## nulls"
   ]
  },
  {
   "cell_type": "code",
   "execution_count": 81,
   "id": "1f6f3fa8",
   "metadata": {},
   "outputs": [],
   "source": [
    "null_df = df.copy()"
   ]
  },
  {
   "cell_type": "code",
   "execution_count": 82,
   "id": "37a5368e",
   "metadata": {},
   "outputs": [
    {
     "data": {
      "text/plain": [
       "phase     0\n",
       "ap_mag    0\n",
       "freq      0\n",
       "fr_sep    0\n",
       "amp       0\n",
       "pow_ex    0\n",
       "temp      0\n",
       "grav      0\n",
       "metal     0\n",
       "rad       0\n",
       "mass      0\n",
       "dtype: int64"
      ]
     },
     "execution_count": 82,
     "metadata": {},
     "output_type": "execute_result"
    }
   ],
   "source": [
    "null_df.isnull().sum()"
   ]
  },
  {
   "cell_type": "markdown",
   "id": "ab04d90d",
   "metadata": {},
   "source": [
    "that's not true, and the dtypes hold a hint:"
   ]
  },
  {
   "cell_type": "code",
   "execution_count": 83,
   "id": "09bd6a02",
   "metadata": {},
   "outputs": [
    {
     "data": {
      "text/plain": [
       "phase       int64\n",
       "ap_mag    float64\n",
       "freq      float64\n",
       "fr_sep    float64\n",
       "amp        object\n",
       "pow_ex     object\n",
       "temp        int64\n",
       "grav      float64\n",
       "metal     float64\n",
       "rad       float64\n",
       "mass      float64\n",
       "dtype: object"
      ]
     },
     "execution_count": 83,
     "metadata": {},
     "output_type": "execute_result"
    }
   ],
   "source": [
    "null_df.dtypes"
   ]
  },
  {
   "cell_type": "markdown",
   "id": "36477b46",
   "metadata": {},
   "source": [
    "apparently there are spaces in certain expressions and empty strings instead of nulls"
   ]
  },
  {
   "cell_type": "code",
   "execution_count": 84,
   "id": "482a6468",
   "metadata": {},
   "outputs": [
    {
     "name": "stdout",
     "output_type": "stream",
     "text": [
      "vals with spaces: 9185\n",
      "nulls post cleanup: 537\n"
     ]
    }
   ],
   "source": [
    "print('vals with spaces:', null_df.amp.str.contains(' ').sum())\n",
    "null_df['amp'] = df.amp.str.replace(' ', ''\n",
    "                  ).replace('', np.nan\n",
    "                           ).astype(float)\n",
    "print('nulls post cleanup:', null_df.amp.isnull().sum())"
   ]
  },
  {
   "cell_type": "code",
   "execution_count": 85,
   "id": "de3fdd03",
   "metadata": {},
   "outputs": [
    {
     "name": "stdout",
     "output_type": "stream",
     "text": [
      "vals with spaces: 15387\n",
      "nulls post cleanup: 537\n"
     ]
    }
   ],
   "source": [
    "print('vals with spaces:', null_df.pow_ex.str.contains(' ').sum())\n",
    "null_df['pow_ex'] = df.pow_ex.str.replace(' ', ''\n",
    "                  ).replace('', np.nan\n",
    "                           ).astype(float)\n",
    "print('nulls post cleanup:', null_df.pow_ex.isnull().sum())"
   ]
  },
  {
   "cell_type": "code",
   "execution_count": 101,
   "id": "04bd9b49",
   "metadata": {},
   "outputs": [
    {
     "data": {
      "text/plain": [
       "phase       int64\n",
       "ap_mag    float64\n",
       "freq      float64\n",
       "fr_sep    float64\n",
       "amp       float64\n",
       "pow_ex    float64\n",
       "temp        int64\n",
       "grav      float64\n",
       "metal     float64\n",
       "rad       float64\n",
       "mass      float64\n",
       "dtype: object"
      ]
     },
     "execution_count": 101,
     "metadata": {},
     "output_type": "execute_result"
    }
   ],
   "source": [
    "null_df.dtypes"
   ]
  },
  {
   "cell_type": "code",
   "execution_count": 111,
   "id": "53087e9e",
   "metadata": {},
   "outputs": [
    {
     "name": "stdout",
     "output_type": "stream",
     "text": [
      "3.49%\n"
     ]
    }
   ],
   "source": [
    "tot_nulls = len(null_df[null_df.isnull().any(axis='columns')])\n",
    "\n",
    "print(f'{tot_nulls/len(null_df):.2%}')"
   ]
  },
  {
   "cell_type": "markdown",
   "id": "db99b690",
   "metadata": {},
   "source": [
    "totally negeligible"
   ]
  },
  {
   "cell_type": "code",
   "execution_count": 119,
   "id": "e1735c9e",
   "metadata": {},
   "outputs": [],
   "source": [
    "null_df.dropna(inplace=True)"
   ]
  },
  {
   "cell_type": "markdown",
   "id": "1b037470",
   "metadata": {},
   "source": [
    "and what about zeros?"
   ]
  },
  {
   "cell_type": "code",
   "execution_count": 120,
   "id": "4496c920",
   "metadata": {},
   "outputs": [
    {
     "data": {
      "text/plain": [
       "0"
      ]
     },
     "execution_count": 120,
     "metadata": {},
     "output_type": "execute_result"
    }
   ],
   "source": [
    "null_df[null_df == 0].any(axis='columns').sum()"
   ]
  },
  {
   "cell_type": "code",
   "execution_count": 121,
   "id": "91aa12d5",
   "metadata": {},
   "outputs": [],
   "source": [
    "df = null_df.copy()"
   ]
  },
  {
   "cell_type": "markdown",
   "id": "6a6996ad",
   "metadata": {},
   "source": [
    "## export"
   ]
  },
  {
   "cell_type": "code",
   "execution_count": 122,
   "id": "b72e80a6",
   "metadata": {},
   "outputs": [],
   "source": [
    "export_df = df.copy()"
   ]
  },
  {
   "cell_type": "markdown",
   "id": "43c62c19",
   "metadata": {},
   "source": [
    "change phase names for clarity"
   ]
  },
  {
   "cell_type": "code",
   "execution_count": 123,
   "id": "c3e06bda",
   "metadata": {},
   "outputs": [
    {
     "data": {
      "text/plain": [
       "HeB    7703\n",
       "RGB    7148\n",
       "Name: phase, dtype: int64"
      ]
     },
     "execution_count": 123,
     "metadata": {},
     "output_type": "execute_result"
    }
   ],
   "source": [
    "export_df.phase.replace({\n",
    "    1: 'RGB', # Red Giant Branch\n",
    "    2: 'HeB', # Helium Burning Phase\n",
    "}, inplace=True)\n",
    "export_df.phase.value_counts()"
   ]
  },
  {
   "cell_type": "code",
   "execution_count": 124,
   "id": "6c68b5de",
   "metadata": {},
   "outputs": [],
   "source": [
    "export_df.to_csv('clean_data.csv', index=False)"
   ]
  }
 ],
 "metadata": {
  "kernelspec": {
   "display_name": "Python 3 (ipykernel)",
   "language": "python",
   "name": "python3"
  },
  "language_info": {
   "codemirror_mode": {
    "name": "ipython",
    "version": 3
   },
   "file_extension": ".py",
   "mimetype": "text/x-python",
   "name": "python",
   "nbconvert_exporter": "python",
   "pygments_lexer": "ipython3",
   "version": "3.9.7"
  },
  "toc": {
   "base_numbering": 1,
   "nav_menu": {},
   "number_sections": true,
   "sideBar": true,
   "skip_h1_title": false,
   "title_cell": "Table of Contents",
   "title_sidebar": "Contents",
   "toc_cell": false,
   "toc_position": {},
   "toc_section_display": true,
   "toc_window_display": false
  }
 },
 "nbformat": 4,
 "nbformat_minor": 5
}
