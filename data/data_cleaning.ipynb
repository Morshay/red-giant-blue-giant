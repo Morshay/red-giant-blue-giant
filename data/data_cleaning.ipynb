{
 "cells": [
  {
   "cell_type": "markdown",
   "id": "c8ed6450",
   "metadata": {},
   "source": [
    "# Preprocessing and Data Cleaning"
   ]
  },
  {
   "cell_type": "markdown",
   "id": "f30817ec",
   "metadata": {},
   "source": [
    "**This notebook is just for reference, there's no need to run this.  \n",
    "the clean data is saved at the end and uploaded in the main script.**"
   ]
  },
  {
   "cell_type": "code",
   "execution_count": 1,
   "id": "97851ace",
   "metadata": {},
   "outputs": [],
   "source": [
    "import pandas as pd\n",
    "import numpy as np"
   ]
  },
  {
   "cell_type": "code",
   "execution_count": 2,
   "id": "5fe7f998",
   "metadata": {},
   "outputs": [
    {
     "data": {
      "text/html": [
       "<div>\n",
       "<style scoped>\n",
       "    .dataframe tbody tr th:only-of-type {\n",
       "        vertical-align: middle;\n",
       "    }\n",
       "\n",
       "    .dataframe tbody tr th {\n",
       "        vertical-align: top;\n",
       "    }\n",
       "\n",
       "    .dataframe thead th {\n",
       "        text-align: right;\n",
       "    }\n",
       "</style>\n",
       "<table border=\"1\" class=\"dataframe\">\n",
       "  <thead>\n",
       "    <tr style=\"text-align: right;\">\n",
       "      <th></th>\n",
       "      <th>kpmag</th>\n",
       "      <th>numax</th>\n",
       "      <th>e_numax</th>\n",
       "      <th>delnu</th>\n",
       "      <th>e_delnu</th>\n",
       "      <th>a</th>\n",
       "      <th>e_a</th>\n",
       "      <th>width</th>\n",
       "      <th>e_width</th>\n",
       "      <th>teff</th>\n",
       "      <th>...</th>\n",
       "      <th>e_nocorr</th>\n",
       "      <th>rgbcorm</th>\n",
       "      <th>e_rgbcorm</th>\n",
       "      <th>rgbcorr</th>\n",
       "      <th>e_rgbcorr</th>\n",
       "      <th>clcorm</th>\n",
       "      <th>e_clcorm</th>\n",
       "      <th>clcorr</th>\n",
       "      <th>e_clcorr</th>\n",
       "      <th>phase</th>\n",
       "    </tr>\n",
       "  </thead>\n",
       "  <tbody>\n",
       "    <tr>\n",
       "      <th>9002</th>\n",
       "      <td>13.28</td>\n",
       "      <td>41.44</td>\n",
       "      <td>0.85</td>\n",
       "      <td>4.466</td>\n",
       "      <td>0.039</td>\n",
       "      <td>82.2</td>\n",
       "      <td>3.6</td>\n",
       "      <td>18.1</td>\n",
       "      <td>1.4</td>\n",
       "      <td>5160</td>\n",
       "      <td>...</td>\n",
       "      <td>0.40</td>\n",
       "      <td>1.73</td>\n",
       "      <td>0.16</td>\n",
       "      <td>11.70</td>\n",
       "      <td>0.40</td>\n",
       "      <td>1.74</td>\n",
       "      <td>0.16</td>\n",
       "      <td>11.72</td>\n",
       "      <td>0.41</td>\n",
       "      <td>2</td>\n",
       "    </tr>\n",
       "    <tr>\n",
       "      <th>8939</th>\n",
       "      <td>11.38</td>\n",
       "      <td>29.64</td>\n",
       "      <td>0.88</td>\n",
       "      <td>3.926</td>\n",
       "      <td>0.050</td>\n",
       "      <td>126.7</td>\n",
       "      <td>5.2</td>\n",
       "      <td>12.1</td>\n",
       "      <td>1.3</td>\n",
       "      <td>5093</td>\n",
       "      <td>...</td>\n",
       "      <td>0.47</td>\n",
       "      <td>1.03</td>\n",
       "      <td>0.12</td>\n",
       "      <td>10.71</td>\n",
       "      <td>0.47</td>\n",
       "      <td>1.04</td>\n",
       "      <td>0.12</td>\n",
       "      <td>10.72</td>\n",
       "      <td>0.47</td>\n",
       "      <td>2</td>\n",
       "    </tr>\n",
       "    <tr>\n",
       "      <th>8072</th>\n",
       "      <td>11.85</td>\n",
       "      <td>43.17</td>\n",
       "      <td>0.47</td>\n",
       "      <td>4.420</td>\n",
       "      <td>0.012</td>\n",
       "      <td>61.9</td>\n",
       "      <td>2.6</td>\n",
       "      <td>14.6</td>\n",
       "      <td>0.9</td>\n",
       "      <td>4960</td>\n",
       "      <td>...</td>\n",
       "      <td>0.29</td>\n",
       "      <td>1.78</td>\n",
       "      <td>0.12</td>\n",
       "      <td>11.74</td>\n",
       "      <td>0.28</td>\n",
       "      <td>1.94</td>\n",
       "      <td>0.13</td>\n",
       "      <td>12.25</td>\n",
       "      <td>0.30</td>\n",
       "      <td>2</td>\n",
       "    </tr>\n",
       "    <tr>\n",
       "      <th>10495</th>\n",
       "      <td>10.56</td>\n",
       "      <td>83.00</td>\n",
       "      <td>2.10</td>\n",
       "      <td>6.903</td>\n",
       "      <td>0.036</td>\n",
       "      <td>22.1</td>\n",
       "      <td>1.9</td>\n",
       "      <td>34.0</td>\n",
       "      <td>4.3</td>\n",
       "      <td>5145</td>\n",
       "      <td>...</td>\n",
       "      <td>0.31</td>\n",
       "      <td>2.41</td>\n",
       "      <td>0.22</td>\n",
       "      <td>9.75</td>\n",
       "      <td>0.31</td>\n",
       "      <td>2.52</td>\n",
       "      <td>0.23</td>\n",
       "      <td>9.97</td>\n",
       "      <td>0.32</td>\n",
       "      <td>2</td>\n",
       "    </tr>\n",
       "    <tr>\n",
       "      <th>10180</th>\n",
       "      <td>13.44</td>\n",
       "      <td>28.48</td>\n",
       "      <td>0.97</td>\n",
       "      <td>3.909</td>\n",
       "      <td>0.037</td>\n",
       "      <td>132.0</td>\n",
       "      <td>9.2</td>\n",
       "      <td>13.0</td>\n",
       "      <td>3.7</td>\n",
       "      <td>5155</td>\n",
       "      <td>...</td>\n",
       "      <td>0.46</td>\n",
       "      <td>0.98</td>\n",
       "      <td>0.12</td>\n",
       "      <td>10.60</td>\n",
       "      <td>0.47</td>\n",
       "      <td>0.95</td>\n",
       "      <td>0.12</td>\n",
       "      <td>10.42</td>\n",
       "      <td>0.46</td>\n",
       "      <td>2</td>\n",
       "    </tr>\n",
       "    <tr>\n",
       "      <th>10265</th>\n",
       "      <td>13.90</td>\n",
       "      <td>24.79</td>\n",
       "      <td>0.39</td>\n",
       "      <td>2.909</td>\n",
       "      <td>0.016</td>\n",
       "      <td>123.7</td>\n",
       "      <td>7.8</td>\n",
       "      <td>9.5</td>\n",
       "      <td>1.3</td>\n",
       "      <td>4553</td>\n",
       "      <td>...</td>\n",
       "      <td>0.45</td>\n",
       "      <td>1.49</td>\n",
       "      <td>0.12</td>\n",
       "      <td>14.48</td>\n",
       "      <td>0.42</td>\n",
       "      <td>1.65</td>\n",
       "      <td>0.14</td>\n",
       "      <td>15.20</td>\n",
       "      <td>0.45</td>\n",
       "      <td>1</td>\n",
       "    </tr>\n",
       "    <tr>\n",
       "      <th>12330</th>\n",
       "      <td>12.13</td>\n",
       "      <td>46.41</td>\n",
       "      <td>0.62</td>\n",
       "      <td>4.808</td>\n",
       "      <td>0.011</td>\n",
       "      <td>86.6</td>\n",
       "      <td>4.3</td>\n",
       "      <td>18.0</td>\n",
       "      <td>1.4</td>\n",
       "      <td>4874</td>\n",
       "      <td>...</td>\n",
       "      <td>0.24</td>\n",
       "      <td>1.54</td>\n",
       "      <td>0.10</td>\n",
       "      <td>10.56</td>\n",
       "      <td>0.24</td>\n",
       "      <td>1.67</td>\n",
       "      <td>0.10</td>\n",
       "      <td>10.99</td>\n",
       "      <td>0.25</td>\n",
       "      <td>1</td>\n",
       "    </tr>\n",
       "    <tr>\n",
       "      <th>3810</th>\n",
       "      <td>12.62</td>\n",
       "      <td>43.93</td>\n",
       "      <td>0.56</td>\n",
       "      <td>4.537</td>\n",
       "      <td>0.010</td>\n",
       "      <td>79.8</td>\n",
       "      <td>3.5</td>\n",
       "      <td>15.2</td>\n",
       "      <td>0.9</td>\n",
       "      <td>4742</td>\n",
       "      <td>...</td>\n",
       "      <td>0.24</td>\n",
       "      <td>1.53</td>\n",
       "      <td>0.09</td>\n",
       "      <td>10.90</td>\n",
       "      <td>0.23</td>\n",
       "      <td>1.70</td>\n",
       "      <td>0.10</td>\n",
       "      <td>11.48</td>\n",
       "      <td>0.24</td>\n",
       "      <td>1</td>\n",
       "    </tr>\n",
       "    <tr>\n",
       "      <th>11900</th>\n",
       "      <td>13.99</td>\n",
       "      <td>45.17</td>\n",
       "      <td>0.57</td>\n",
       "      <td>5.154</td>\n",
       "      <td>0.014</td>\n",
       "      <td>96.0</td>\n",
       "      <td>5.2</td>\n",
       "      <td>15.9</td>\n",
       "      <td>0.9</td>\n",
       "      <td>4982</td>\n",
       "      <td>...</td>\n",
       "      <td>0.23</td>\n",
       "      <td>1.12</td>\n",
       "      <td>0.08</td>\n",
       "      <td>9.07</td>\n",
       "      <td>0.23</td>\n",
       "      <td>1.20</td>\n",
       "      <td>0.08</td>\n",
       "      <td>9.42</td>\n",
       "      <td>0.23</td>\n",
       "      <td>1</td>\n",
       "    </tr>\n",
       "    <tr>\n",
       "      <th>13303</th>\n",
       "      <td>12.51</td>\n",
       "      <td>27.07</td>\n",
       "      <td>0.71</td>\n",
       "      <td>3.527</td>\n",
       "      <td>0.113</td>\n",
       "      <td>125.3</td>\n",
       "      <td>5.1</td>\n",
       "      <td>11.7</td>\n",
       "      <td>1.2</td>\n",
       "      <td>4864</td>\n",
       "      <td>...</td>\n",
       "      <td>0.84</td>\n",
       "      <td>1.02</td>\n",
       "      <td>0.16</td>\n",
       "      <td>11.29</td>\n",
       "      <td>0.79</td>\n",
       "      <td>1.12</td>\n",
       "      <td>0.18</td>\n",
       "      <td>11.82</td>\n",
       "      <td>0.84</td>\n",
       "      <td>2</td>\n",
       "    </tr>\n",
       "  </tbody>\n",
       "</table>\n",
       "<p>10 rows × 28 columns</p>\n",
       "</div>"
      ],
      "text/plain": [
       "       kpmag  numax  e_numax  delnu  e_delnu      a    e_a  width e_width  \\\n",
       "9002   13.28  41.44     0.85  4.466    0.039   82.2    3.6   18.1     1.4   \n",
       "8939   11.38  29.64     0.88  3.926    0.050  126.7    5.2   12.1     1.3   \n",
       "8072   11.85  43.17     0.47  4.420    0.012   61.9    2.6   14.6     0.9   \n",
       "10495  10.56  83.00     2.10  6.903    0.036   22.1    1.9   34.0     4.3   \n",
       "10180  13.44  28.48     0.97  3.909    0.037  132.0    9.2   13.0     3.7   \n",
       "10265  13.90  24.79     0.39  2.909    0.016  123.7    7.8    9.5     1.3   \n",
       "12330  12.13  46.41     0.62  4.808    0.011   86.6    4.3   18.0     1.4   \n",
       "3810   12.62  43.93     0.56  4.537    0.010   79.8    3.5   15.2     0.9   \n",
       "11900  13.99  45.17     0.57  5.154    0.014   96.0    5.2   15.9     0.9   \n",
       "13303  12.51  27.07     0.71  3.527    0.113  125.3    5.1   11.7     1.2   \n",
       "\n",
       "       teff  ...  e_nocorr  rgbcorm  e_rgbcorm  rgbcorr  e_rgbcorr  clcorm  \\\n",
       "9002   5160  ...      0.40     1.73       0.16    11.70       0.40    1.74   \n",
       "8939   5093  ...      0.47     1.03       0.12    10.71       0.47    1.04   \n",
       "8072   4960  ...      0.29     1.78       0.12    11.74       0.28    1.94   \n",
       "10495  5145  ...      0.31     2.41       0.22     9.75       0.31    2.52   \n",
       "10180  5155  ...      0.46     0.98       0.12    10.60       0.47    0.95   \n",
       "10265  4553  ...      0.45     1.49       0.12    14.48       0.42    1.65   \n",
       "12330  4874  ...      0.24     1.54       0.10    10.56       0.24    1.67   \n",
       "3810   4742  ...      0.24     1.53       0.09    10.90       0.23    1.70   \n",
       "11900  4982  ...      0.23     1.12       0.08     9.07       0.23    1.20   \n",
       "13303  4864  ...      0.84     1.02       0.16    11.29       0.79    1.12   \n",
       "\n",
       "       e_clcorm  clcorr  e_clcorr  phase  \n",
       "9002       0.16   11.72      0.41      2  \n",
       "8939       0.12   10.72      0.47      2  \n",
       "8072       0.13   12.25      0.30      2  \n",
       "10495      0.23    9.97      0.32      2  \n",
       "10180      0.12   10.42      0.46      2  \n",
       "10265      0.14   15.20      0.45      1  \n",
       "12330      0.10   10.99      0.25      1  \n",
       "3810       0.10   11.48      0.24      1  \n",
       "11900      0.08    9.42      0.23      1  \n",
       "13303      0.18   11.82      0.84      2  \n",
       "\n",
       "[10 rows x 28 columns]"
      ]
     },
     "execution_count": 2,
     "metadata": {},
     "output_type": "execute_result"
    }
   ],
   "source": [
    "upload = pd.read_csv('raw_data.csv').rename(str.lower, axis='columns')\n",
    "upload.sample(10)"
   ]
  },
  {
   "cell_type": "code",
   "execution_count": 3,
   "id": "785ea4ab",
   "metadata": {},
   "outputs": [],
   "source": [
    "df = upload.copy()"
   ]
  },
  {
   "cell_type": "markdown",
   "id": "6ef4d70b",
   "metadata": {},
   "source": [
    "## column removal"
   ]
  },
  {
   "cell_type": "code",
   "execution_count": 4,
   "id": "ec402cea",
   "metadata": {},
   "outputs": [],
   "source": [
    "col_df = df.copy()"
   ]
  },
  {
   "cell_type": "markdown",
   "id": "d28fd6d0",
   "metadata": {},
   "source": [
    "columns that start in *e_* describe the error in measurement, and are irrelevant for the calculation process."
   ]
  },
  {
   "cell_type": "code",
   "execution_count": 5,
   "id": "68dbaaec",
   "metadata": {},
   "outputs": [
    {
     "data": {
      "text/plain": [
       "Index(['kpmag', 'numax', 'delnu', 'a', 'width', 'teff', 'log(g)', '[fe/h]',\n",
       "       'nocorm', 'nocorr', 'rgbcorm', 'rgbcorr', 'clcorm', 'clcorr', 'phase'],\n",
       "      dtype='object')"
      ]
     },
     "execution_count": 5,
     "metadata": {},
     "output_type": "execute_result"
    }
   ],
   "source": [
    "col_df.drop(\n",
    "    columns=df.columns[\n",
    "        df.columns.str.contains('e_')],\n",
    "    inplace=True)\n",
    "\n",
    "col_df.columns"
   ]
  },
  {
   "cell_type": "markdown",
   "id": "f46b9914",
   "metadata": {},
   "source": [
    "the mass and radius corrections can be averaged"
   ]
  },
  {
   "cell_type": "code",
   "execution_count": 6,
   "id": "15088908",
   "metadata": {},
   "outputs": [
    {
     "data": {
      "text/html": [
       "<div>\n",
       "<style scoped>\n",
       "    .dataframe tbody tr th:only-of-type {\n",
       "        vertical-align: middle;\n",
       "    }\n",
       "\n",
       "    .dataframe tbody tr th {\n",
       "        vertical-align: top;\n",
       "    }\n",
       "\n",
       "    .dataframe thead th {\n",
       "        text-align: right;\n",
       "    }\n",
       "</style>\n",
       "<table border=\"1\" class=\"dataframe\">\n",
       "  <thead>\n",
       "    <tr style=\"text-align: right;\">\n",
       "      <th></th>\n",
       "      <th>nocorm</th>\n",
       "      <th>nocorr</th>\n",
       "      <th>rgbcorm</th>\n",
       "      <th>rgbcorr</th>\n",
       "      <th>clcorm</th>\n",
       "      <th>clcorr</th>\n",
       "    </tr>\n",
       "  </thead>\n",
       "  <tbody>\n",
       "    <tr>\n",
       "      <th>1057</th>\n",
       "      <td>2.02</td>\n",
       "      <td>10.90</td>\n",
       "      <td>1.94</td>\n",
       "      <td>10.68</td>\n",
       "      <td>2.07</td>\n",
       "      <td>11.02</td>\n",
       "    </tr>\n",
       "    <tr>\n",
       "      <th>12063</th>\n",
       "      <td>1.13</td>\n",
       "      <td>11.56</td>\n",
       "      <td>1.00</td>\n",
       "      <td>10.91</td>\n",
       "      <td>1.12</td>\n",
       "      <td>11.53</td>\n",
       "    </tr>\n",
       "    <tr>\n",
       "      <th>7691</th>\n",
       "      <td>0.61</td>\n",
       "      <td>7.64</td>\n",
       "      <td>0.66</td>\n",
       "      <td>7.96</td>\n",
       "      <td>0.64</td>\n",
       "      <td>7.82</td>\n",
       "    </tr>\n",
       "  </tbody>\n",
       "</table>\n",
       "</div>"
      ],
      "text/plain": [
       "       nocorm  nocorr  rgbcorm  rgbcorr  clcorm  clcorr\n",
       "1057     2.02   10.90     1.94    10.68    2.07   11.02\n",
       "12063    1.13   11.56     1.00    10.91    1.12   11.53\n",
       "7691     0.61    7.64     0.66     7.96    0.64    7.82"
      ]
     },
     "execution_count": 6,
     "metadata": {},
     "output_type": "execute_result"
    }
   ],
   "source": [
    "col_df[col_df.columns[\n",
    "        col_df.columns.str.contains('cor')]\n",
    "          ].sample(3)"
   ]
  },
  {
   "cell_type": "code",
   "execution_count": 7,
   "id": "b0846060",
   "metadata": {},
   "outputs": [
    {
     "data": {
      "text/html": [
       "<div>\n",
       "<style scoped>\n",
       "    .dataframe tbody tr th:only-of-type {\n",
       "        vertical-align: middle;\n",
       "    }\n",
       "\n",
       "    .dataframe tbody tr th {\n",
       "        vertical-align: top;\n",
       "    }\n",
       "\n",
       "    .dataframe thead th {\n",
       "        text-align: right;\n",
       "    }\n",
       "</style>\n",
       "<table border=\"1\" class=\"dataframe\">\n",
       "  <thead>\n",
       "    <tr style=\"text-align: right;\">\n",
       "      <th></th>\n",
       "      <th>kpmag</th>\n",
       "      <th>numax</th>\n",
       "      <th>delnu</th>\n",
       "      <th>a</th>\n",
       "      <th>width</th>\n",
       "      <th>teff</th>\n",
       "      <th>log(g)</th>\n",
       "      <th>[fe/h]</th>\n",
       "      <th>phase</th>\n",
       "      <th>rad</th>\n",
       "      <th>mass</th>\n",
       "    </tr>\n",
       "  </thead>\n",
       "  <tbody>\n",
       "    <tr>\n",
       "      <th>15045</th>\n",
       "      <td>10.68</td>\n",
       "      <td>54.29</td>\n",
       "      <td>4.785</td>\n",
       "      <td>34.2</td>\n",
       "      <td>23.5</td>\n",
       "      <td>5226</td>\n",
       "      <td>2.661</td>\n",
       "      <td>-0.02</td>\n",
       "      <td>2</td>\n",
       "      <td>41.12</td>\n",
       "      <td>9.42</td>\n",
       "    </tr>\n",
       "    <tr>\n",
       "      <th>9524</th>\n",
       "      <td>12.10</td>\n",
       "      <td>60.28</td>\n",
       "      <td>6.161</td>\n",
       "      <td>77.2</td>\n",
       "      <td>19.3</td>\n",
       "      <td>4776</td>\n",
       "      <td>2.687</td>\n",
       "      <td>-0.10</td>\n",
       "      <td>1</td>\n",
       "      <td>25.25</td>\n",
       "      <td>3.77</td>\n",
       "    </tr>\n",
       "    <tr>\n",
       "      <th>12205</th>\n",
       "      <td>12.90</td>\n",
       "      <td>198.20</td>\n",
       "      <td>15.271</td>\n",
       "      <td>43.7</td>\n",
       "      <td>53.3</td>\n",
       "      <td>5010</td>\n",
       "      <td>3.214</td>\n",
       "      <td>-0.15</td>\n",
       "      <td>1</td>\n",
       "      <td>14.01</td>\n",
       "      <td>3.90</td>\n",
       "    </tr>\n",
       "    <tr>\n",
       "      <th>14004</th>\n",
       "      <td>10.40</td>\n",
       "      <td>38.18</td>\n",
       "      <td>3.923</td>\n",
       "      <td>91.9</td>\n",
       "      <td>13.2</td>\n",
       "      <td>4944</td>\n",
       "      <td>2.496</td>\n",
       "      <td>-0.41</td>\n",
       "      <td>1</td>\n",
       "      <td>40.27</td>\n",
       "      <td>6.18</td>\n",
       "    </tr>\n",
       "    <tr>\n",
       "      <th>14486</th>\n",
       "      <td>12.53</td>\n",
       "      <td>33.44</td>\n",
       "      <td>3.906</td>\n",
       "      <td>99.9</td>\n",
       "      <td>12.9</td>\n",
       "      <td>4904</td>\n",
       "      <td>2.437</td>\n",
       "      <td>-0.80</td>\n",
       "      <td>1</td>\n",
       "      <td>35.10</td>\n",
       "      <td>4.10</td>\n",
       "    </tr>\n",
       "    <tr>\n",
       "      <th>13497</th>\n",
       "      <td>13.01</td>\n",
       "      <td>31.25</td>\n",
       "      <td>3.883</td>\n",
       "      <td>144.2</td>\n",
       "      <td>9.7</td>\n",
       "      <td>5017</td>\n",
       "      <td>2.412</td>\n",
       "      <td>-0.81</td>\n",
       "      <td>2</td>\n",
       "      <td>33.89</td>\n",
       "      <td>3.61</td>\n",
       "    </tr>\n",
       "    <tr>\n",
       "      <th>969</th>\n",
       "      <td>13.06</td>\n",
       "      <td>61.61</td>\n",
       "      <td>5.965</td>\n",
       "      <td>74.4</td>\n",
       "      <td>19.4</td>\n",
       "      <td>4684</td>\n",
       "      <td>2.692</td>\n",
       "      <td>0.10</td>\n",
       "      <td>1</td>\n",
       "      <td>27.28</td>\n",
       "      <td>4.45</td>\n",
       "    </tr>\n",
       "    <tr>\n",
       "      <th>1452</th>\n",
       "      <td>13.84</td>\n",
       "      <td>59.02</td>\n",
       "      <td>5.834</td>\n",
       "      <td>50.9</td>\n",
       "      <td>20.3</td>\n",
       "      <td>4943</td>\n",
       "      <td>2.685</td>\n",
       "      <td>-0.29</td>\n",
       "      <td>1</td>\n",
       "      <td>28.22</td>\n",
       "      <td>4.69</td>\n",
       "    </tr>\n",
       "    <tr>\n",
       "      <th>14717</th>\n",
       "      <td>11.66</td>\n",
       "      <td>116.88</td>\n",
       "      <td>10.109</td>\n",
       "      <td>61.7</td>\n",
       "      <td>33.0</td>\n",
       "      <td>4939</td>\n",
       "      <td>2.982</td>\n",
       "      <td>-0.09</td>\n",
       "      <td>1</td>\n",
       "      <td>18.67</td>\n",
       "      <td>4.06</td>\n",
       "    </tr>\n",
       "    <tr>\n",
       "      <th>9684</th>\n",
       "      <td>13.28</td>\n",
       "      <td>44.61</td>\n",
       "      <td>4.797</td>\n",
       "      <td>83.4</td>\n",
       "      <td>16.4</td>\n",
       "      <td>5058</td>\n",
       "      <td>2.569</td>\n",
       "      <td>-0.02</td>\n",
       "      <td>1</td>\n",
       "      <td>32.17</td>\n",
       "      <td>4.66</td>\n",
       "    </tr>\n",
       "  </tbody>\n",
       "</table>\n",
       "</div>"
      ],
      "text/plain": [
       "       kpmag   numax   delnu      a  width  teff  log(g)  [fe/h]  phase  \\\n",
       "15045  10.68   54.29   4.785   34.2   23.5  5226   2.661   -0.02      2   \n",
       "9524   12.10   60.28   6.161   77.2   19.3  4776   2.687   -0.10      1   \n",
       "12205  12.90  198.20  15.271   43.7   53.3  5010   3.214   -0.15      1   \n",
       "14004  10.40   38.18   3.923   91.9   13.2  4944   2.496   -0.41      1   \n",
       "14486  12.53   33.44   3.906   99.9   12.9  4904   2.437   -0.80      1   \n",
       "13497  13.01   31.25   3.883  144.2    9.7  5017   2.412   -0.81      2   \n",
       "969    13.06   61.61   5.965   74.4   19.4  4684   2.692    0.10      1   \n",
       "1452   13.84   59.02   5.834   50.9   20.3  4943   2.685   -0.29      1   \n",
       "14717  11.66  116.88  10.109   61.7   33.0  4939   2.982   -0.09      1   \n",
       "9684   13.28   44.61   4.797   83.4   16.4  5058   2.569   -0.02      1   \n",
       "\n",
       "         rad  mass  \n",
       "15045  41.12  9.42  \n",
       "9524   25.25  3.77  \n",
       "12205  14.01  3.90  \n",
       "14004  40.27  6.18  \n",
       "14486  35.10  4.10  \n",
       "13497  33.89  3.61  \n",
       "969    27.28  4.45  \n",
       "1452   28.22  4.69  \n",
       "14717  18.67  4.06  \n",
       "9684   32.17  4.66  "
      ]
     },
     "execution_count": 7,
     "metadata": {},
     "output_type": "execute_result"
    }
   ],
   "source": [
    "col_df['rad'] = col_df.nocorr + col_df.rgbcorr + col_df.clcorr\n",
    "col_df['mass'] = col_df.nocorm + col_df.rgbcorm + col_df.clcorm\n",
    "\n",
    "col_df.drop(\n",
    "    columns=col_df.columns[\n",
    "        col_df.columns.str.contains('cor')],\n",
    "    inplace=True)\n",
    "\n",
    "col_df.sample(10)"
   ]
  },
  {
   "cell_type": "markdown",
   "id": "53d62320",
   "metadata": {},
   "source": [
    "renaming and reordering columns"
   ]
  },
  {
   "cell_type": "code",
   "execution_count": 8,
   "id": "3ddcd891",
   "metadata": {},
   "outputs": [],
   "source": [
    "col_df.rename(\n",
    "    {\n",
    "        'kpmag': 'ap_mag',  # apparent magnitude (brightness)\n",
    "        'numax': 'freq',  # maximum oscillation frequency\n",
    "        'delnu': 'fr_sep',  # frequency separation of oscillation modes\n",
    "        'a': 'amp',  # oscillation amplitude\n",
    "        'width': 'pow_ex',  # power excess width\n",
    "        'teff': 'temp',  # effective temperature\n",
    "        'log(g)': 'grav', # surface gravity logarithm\n",
    "        '[fe/h]': 'metal',  # metallicity\n",
    "    },\n",
    "axis='columns',\n",
    "inplace=True)"
   ]
  },
  {
   "cell_type": "code",
   "execution_count": 9,
   "id": "d8b18cdd",
   "metadata": {},
   "outputs": [
    {
     "data": {
      "text/plain": [
       "Index(['phase', 'ap_mag', 'freq', 'fr_sep', 'amp', 'pow_ex', 'temp', 'grav',\n",
       "       'metal', 'rad', 'mass'],\n",
       "      dtype='object')"
      ]
     },
     "execution_count": 9,
     "metadata": {},
     "output_type": "execute_result"
    }
   ],
   "source": [
    "col_df = col_df[['phase'] + list(col_df.columns.drop('phase'))]\n",
    "col_df.columns"
   ]
  },
  {
   "cell_type": "code",
   "execution_count": 10,
   "id": "816807c8",
   "metadata": {},
   "outputs": [],
   "source": [
    "df = col_df.copy()"
   ]
  },
  {
   "cell_type": "markdown",
   "id": "1fbe6616",
   "metadata": {},
   "source": [
    "## nulls"
   ]
  },
  {
   "cell_type": "code",
   "execution_count": 11,
   "id": "1f6f3fa8",
   "metadata": {},
   "outputs": [],
   "source": [
    "null_df = df.copy()"
   ]
  },
  {
   "cell_type": "code",
   "execution_count": 12,
   "id": "37a5368e",
   "metadata": {},
   "outputs": [
    {
     "data": {
      "text/plain": [
       "phase     0\n",
       "ap_mag    0\n",
       "freq      0\n",
       "fr_sep    0\n",
       "amp       0\n",
       "pow_ex    0\n",
       "temp      0\n",
       "grav      0\n",
       "metal     0\n",
       "rad       0\n",
       "mass      0\n",
       "dtype: int64"
      ]
     },
     "execution_count": 12,
     "metadata": {},
     "output_type": "execute_result"
    }
   ],
   "source": [
    "null_df.isnull().sum()"
   ]
  },
  {
   "cell_type": "markdown",
   "id": "ab04d90d",
   "metadata": {},
   "source": [
    "that's not true, and the dtypes hold a hint:"
   ]
  },
  {
   "cell_type": "code",
   "execution_count": 13,
   "id": "09bd6a02",
   "metadata": {},
   "outputs": [
    {
     "data": {
      "text/plain": [
       "phase       int64\n",
       "ap_mag    float64\n",
       "freq      float64\n",
       "fr_sep    float64\n",
       "amp        object\n",
       "pow_ex     object\n",
       "temp        int64\n",
       "grav      float64\n",
       "metal     float64\n",
       "rad       float64\n",
       "mass      float64\n",
       "dtype: object"
      ]
     },
     "execution_count": 13,
     "metadata": {},
     "output_type": "execute_result"
    }
   ],
   "source": [
    "null_df.dtypes"
   ]
  },
  {
   "cell_type": "markdown",
   "id": "36477b46",
   "metadata": {},
   "source": [
    "apparently there are spaces in certain expressions and empty strings instead of nulls"
   ]
  },
  {
   "cell_type": "code",
   "execution_count": 14,
   "id": "482a6468",
   "metadata": {},
   "outputs": [
    {
     "name": "stdout",
     "output_type": "stream",
     "text": [
      "vals with spaces: 9185\n",
      "nulls post cleanup: 537\n"
     ]
    }
   ],
   "source": [
    "print('vals with spaces:', null_df.amp.str.contains(' ').sum())\n",
    "null_df['amp'] = df.amp.str.replace(' ', ''\n",
    "                  ).replace('', np.nan\n",
    "                           ).astype(float)\n",
    "print('nulls post cleanup:', null_df.amp.isnull().sum())"
   ]
  },
  {
   "cell_type": "code",
   "execution_count": 15,
   "id": "de3fdd03",
   "metadata": {},
   "outputs": [
    {
     "name": "stdout",
     "output_type": "stream",
     "text": [
      "vals with spaces: 15387\n",
      "nulls post cleanup: 537\n"
     ]
    }
   ],
   "source": [
    "print('vals with spaces:', null_df.pow_ex.str.contains(' ').sum())\n",
    "null_df['pow_ex'] = df.pow_ex.str.replace(' ', ''\n",
    "                  ).replace('', np.nan\n",
    "                           ).astype(float)\n",
    "print('nulls post cleanup:', null_df.pow_ex.isnull().sum())"
   ]
  },
  {
   "cell_type": "code",
   "execution_count": 16,
   "id": "04bd9b49",
   "metadata": {},
   "outputs": [
    {
     "data": {
      "text/plain": [
       "phase       int64\n",
       "ap_mag    float64\n",
       "freq      float64\n",
       "fr_sep    float64\n",
       "amp       float64\n",
       "pow_ex    float64\n",
       "temp        int64\n",
       "grav      float64\n",
       "metal     float64\n",
       "rad       float64\n",
       "mass      float64\n",
       "dtype: object"
      ]
     },
     "execution_count": 16,
     "metadata": {},
     "output_type": "execute_result"
    }
   ],
   "source": [
    "null_df.dtypes"
   ]
  },
  {
   "cell_type": "markdown",
   "id": "1b037470",
   "metadata": {},
   "source": [
    "and what about zeros?"
   ]
  },
  {
   "cell_type": "code",
   "execution_count": 17,
   "id": "4496c920",
   "metadata": {},
   "outputs": [
    {
     "data": {
      "text/plain": [
       "0"
      ]
     },
     "execution_count": 17,
     "metadata": {},
     "output_type": "execute_result"
    }
   ],
   "source": [
    "null_df[null_df == 0].any(axis='columns').sum()"
   ]
  },
  {
   "cell_type": "code",
   "execution_count": 18,
   "id": "91aa12d5",
   "metadata": {},
   "outputs": [],
   "source": [
    "df = null_df.copy()"
   ]
  },
  {
   "cell_type": "markdown",
   "id": "6a6996ad",
   "metadata": {},
   "source": [
    "## export"
   ]
  },
  {
   "cell_type": "code",
   "execution_count": 19,
   "id": "b72e80a6",
   "metadata": {},
   "outputs": [],
   "source": [
    "export_df = df.copy()"
   ]
  },
  {
   "cell_type": "markdown",
   "id": "43c62c19",
   "metadata": {},
   "source": [
    "change phase names for clarity"
   ]
  },
  {
   "cell_type": "code",
   "execution_count": 20,
   "id": "c3e06bda",
   "metadata": {},
   "outputs": [
    {
     "data": {
      "text/plain": [
       "HeB    7703\n",
       "RGB    7685\n",
       "Name: phase, dtype: int64"
      ]
     },
     "execution_count": 20,
     "metadata": {},
     "output_type": "execute_result"
    }
   ],
   "source": [
    "export_df.phase.replace({\n",
    "    1: 'RGB', # Red Giant Branch\n",
    "    2: 'HeB', # Helium Burning Phase\n",
    "}, inplace=True)\n",
    "export_df.phase.value_counts()"
   ]
  },
  {
   "cell_type": "code",
   "execution_count": 21,
   "id": "6c68b5de",
   "metadata": {},
   "outputs": [],
   "source": [
    "export_df.to_csv('clean_data.csv', index=False)"
   ]
  }
 ],
 "metadata": {
  "kernelspec": {
   "display_name": "Python 3 (ipykernel)",
   "language": "python",
   "name": "python3"
  },
  "language_info": {
   "codemirror_mode": {
    "name": "ipython",
    "version": 3
   },
   "file_extension": ".py",
   "mimetype": "text/x-python",
   "name": "python",
   "nbconvert_exporter": "python",
   "pygments_lexer": "ipython3",
   "version": "3.9.7"
  },
  "toc": {
   "base_numbering": 1,
   "nav_menu": {},
   "number_sections": true,
   "sideBar": true,
   "skip_h1_title": false,
   "title_cell": "Table of Contents",
   "title_sidebar": "Contents",
   "toc_cell": false,
   "toc_position": {},
   "toc_section_display": true,
   "toc_window_display": false
  }
 },
 "nbformat": 4,
 "nbformat_minor": 5
}
