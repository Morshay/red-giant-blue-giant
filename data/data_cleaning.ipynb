{
 "cells": [
  {
   "cell_type": "markdown",
   "id": "c8ed6450",
   "metadata": {},
   "source": [
    "# Preprocessing and Data Cleaning"
   ]
  },
  {
   "cell_type": "markdown",
   "id": "f30817ec",
   "metadata": {},
   "source": [
    "**This notebook is just for reference, there's no need to run this.  \n",
    "the clean data is saved at the end and uploaded in the main script.**"
   ]
  },
  {
   "cell_type": "code",
   "execution_count": 1,
   "id": "97851ace",
   "metadata": {},
   "outputs": [],
   "source": [
    "import pandas as pd\n",
    "import numpy as np"
   ]
  },
  {
   "cell_type": "code",
   "execution_count": 2,
   "id": "5fe7f998",
   "metadata": {},
   "outputs": [
    {
     "data": {
      "text/html": [
       "<div>\n",
       "<style scoped>\n",
       "    .dataframe tbody tr th:only-of-type {\n",
       "        vertical-align: middle;\n",
       "    }\n",
       "\n",
       "    .dataframe tbody tr th {\n",
       "        vertical-align: top;\n",
       "    }\n",
       "\n",
       "    .dataframe thead th {\n",
       "        text-align: right;\n",
       "    }\n",
       "</style>\n",
       "<table border=\"1\" class=\"dataframe\">\n",
       "  <thead>\n",
       "    <tr style=\"text-align: right;\">\n",
       "      <th></th>\n",
       "      <th>kpmag</th>\n",
       "      <th>numax</th>\n",
       "      <th>e_numax</th>\n",
       "      <th>delnu</th>\n",
       "      <th>e_delnu</th>\n",
       "      <th>a</th>\n",
       "      <th>e_a</th>\n",
       "      <th>width</th>\n",
       "      <th>e_width</th>\n",
       "      <th>teff</th>\n",
       "      <th>...</th>\n",
       "      <th>e_nocorr</th>\n",
       "      <th>rgbcorm</th>\n",
       "      <th>e_rgbcorm</th>\n",
       "      <th>rgbcorr</th>\n",
       "      <th>e_rgbcorr</th>\n",
       "      <th>clcorm</th>\n",
       "      <th>e_clcorm</th>\n",
       "      <th>clcorr</th>\n",
       "      <th>e_clcorr</th>\n",
       "      <th>phase</th>\n",
       "    </tr>\n",
       "  </thead>\n",
       "  <tbody>\n",
       "    <tr>\n",
       "      <th>3648</th>\n",
       "      <td>12.76</td>\n",
       "      <td>57.39</td>\n",
       "      <td>0.70</td>\n",
       "      <td>5.327</td>\n",
       "      <td>0.011</td>\n",
       "      <td>48.0</td>\n",
       "      <td>1.8</td>\n",
       "      <td>20.6</td>\n",
       "      <td>1.6</td>\n",
       "      <td>4891</td>\n",
       "      <td>...</td>\n",
       "      <td>0.23</td>\n",
       "      <td>1.94</td>\n",
       "      <td>0.11</td>\n",
       "      <td>10.67</td>\n",
       "      <td>0.22</td>\n",
       "      <td>2.11</td>\n",
       "      <td>0.12</td>\n",
       "      <td>11.11</td>\n",
       "      <td>0.23</td>\n",
       "      <td>1</td>\n",
       "    </tr>\n",
       "    <tr>\n",
       "      <th>13079</th>\n",
       "      <td>13.85</td>\n",
       "      <td>161.06</td>\n",
       "      <td>1.75</td>\n",
       "      <td>12.872</td>\n",
       "      <td>0.031</td>\n",
       "      <td>31.8</td>\n",
       "      <td>2.5</td>\n",
       "      <td>56.4</td>\n",
       "      <td>7.3</td>\n",
       "      <td>5243</td>\n",
       "      <td>...</td>\n",
       "      <td>0.13</td>\n",
       "      <td>1.49</td>\n",
       "      <td>0.10</td>\n",
       "      <td>5.47</td>\n",
       "      <td>0.13</td>\n",
       "      <td>1.53</td>\n",
       "      <td>0.10</td>\n",
       "      <td>5.55</td>\n",
       "      <td>0.13</td>\n",
       "      <td>1</td>\n",
       "    </tr>\n",
       "    <tr>\n",
       "      <th>1217</th>\n",
       "      <td>11.64</td>\n",
       "      <td>249.68</td>\n",
       "      <td>2.15</td>\n",
       "      <td>18.228</td>\n",
       "      <td>0.034</td>\n",
       "      <td></td>\n",
       "      <td></td>\n",
       "      <td></td>\n",
       "      <td></td>\n",
       "      <td>5151</td>\n",
       "      <td>...</td>\n",
       "      <td>0.08</td>\n",
       "      <td>1.31</td>\n",
       "      <td>0.07</td>\n",
       "      <td>4.14</td>\n",
       "      <td>0.08</td>\n",
       "      <td>1.38</td>\n",
       "      <td>0.07</td>\n",
       "      <td>4.25</td>\n",
       "      <td>0.08</td>\n",
       "      <td>1</td>\n",
       "    </tr>\n",
       "    <tr>\n",
       "      <th>2845</th>\n",
       "      <td>12.59</td>\n",
       "      <td>58.86</td>\n",
       "      <td>0.62</td>\n",
       "      <td>6.110</td>\n",
       "      <td>0.015</td>\n",
       "      <td>92.6</td>\n",
       "      <td>3.9</td>\n",
       "      <td>18.1</td>\n",
       "      <td>0.7</td>\n",
       "      <td>4635</td>\n",
       "      <td>...</td>\n",
       "      <td>0.17</td>\n",
       "      <td>1.03</td>\n",
       "      <td>0.06</td>\n",
       "      <td>7.77</td>\n",
       "      <td>0.16</td>\n",
       "      <td>1.16</td>\n",
       "      <td>0.06</td>\n",
       "      <td>8.25</td>\n",
       "      <td>0.17</td>\n",
       "      <td>1</td>\n",
       "    </tr>\n",
       "    <tr>\n",
       "      <th>11472</th>\n",
       "      <td>15.02</td>\n",
       "      <td>137.03</td>\n",
       "      <td>0.88</td>\n",
       "      <td>12.200</td>\n",
       "      <td>0.021</td>\n",
       "      <td>59.2</td>\n",
       "      <td>3.6</td>\n",
       "      <td>36.4</td>\n",
       "      <td>2.7</td>\n",
       "      <td>5178</td>\n",
       "      <td>...</td>\n",
       "      <td>0.11</td>\n",
       "      <td>1.13</td>\n",
       "      <td>0.07</td>\n",
       "      <td>5.19</td>\n",
       "      <td>0.11</td>\n",
       "      <td>1.13</td>\n",
       "      <td>0.07</td>\n",
       "      <td>5.19</td>\n",
       "      <td>0.11</td>\n",
       "      <td>1</td>\n",
       "    </tr>\n",
       "    <tr>\n",
       "      <th>10746</th>\n",
       "      <td>13.31</td>\n",
       "      <td>31.76</td>\n",
       "      <td>0.72</td>\n",
       "      <td>4.166</td>\n",
       "      <td>0.064</td>\n",
       "      <td>164.6</td>\n",
       "      <td>8.0</td>\n",
       "      <td>13.8</td>\n",
       "      <td>1.9</td>\n",
       "      <td>4875</td>\n",
       "      <td>...</td>\n",
       "      <td>0.43</td>\n",
       "      <td>0.96</td>\n",
       "      <td>0.11</td>\n",
       "      <td>10.09</td>\n",
       "      <td>0.44</td>\n",
       "      <td>0.93</td>\n",
       "      <td>0.10</td>\n",
       "      <td>9.92</td>\n",
       "      <td>0.43</td>\n",
       "      <td>2</td>\n",
       "    </tr>\n",
       "    <tr>\n",
       "      <th>11418</th>\n",
       "      <td>12.89</td>\n",
       "      <td>172.93</td>\n",
       "      <td>1.12</td>\n",
       "      <td>13.918</td>\n",
       "      <td>0.019</td>\n",
       "      <td>37.3</td>\n",
       "      <td>1.2</td>\n",
       "      <td>50.2</td>\n",
       "      <td>2.1</td>\n",
       "      <td>5223</td>\n",
       "      <td>...</td>\n",
       "      <td>0.12</td>\n",
       "      <td>1.36</td>\n",
       "      <td>0.09</td>\n",
       "      <td>5.05</td>\n",
       "      <td>0.12</td>\n",
       "      <td>1.37</td>\n",
       "      <td>0.09</td>\n",
       "      <td>5.07</td>\n",
       "      <td>0.12</td>\n",
       "      <td>1</td>\n",
       "    </tr>\n",
       "    <tr>\n",
       "      <th>12792</th>\n",
       "      <td>10.54</td>\n",
       "      <td>74.32</td>\n",
       "      <td>1.95</td>\n",
       "      <td>5.839</td>\n",
       "      <td>0.043</td>\n",
       "      <td>22.2</td>\n",
       "      <td>1.5</td>\n",
       "      <td>24.2</td>\n",
       "      <td>2.5</td>\n",
       "      <td>5145</td>\n",
       "      <td>...</td>\n",
       "      <td>0.42</td>\n",
       "      <td>3.77</td>\n",
       "      <td>0.36</td>\n",
       "      <td>12.89</td>\n",
       "      <td>0.45</td>\n",
       "      <td>3.72</td>\n",
       "      <td>0.36</td>\n",
       "      <td>12.79</td>\n",
       "      <td>0.45</td>\n",
       "      <td>2</td>\n",
       "    </tr>\n",
       "    <tr>\n",
       "      <th>6984</th>\n",
       "      <td>12.49</td>\n",
       "      <td>39.53</td>\n",
       "      <td>0.46</td>\n",
       "      <td>4.150</td>\n",
       "      <td>0.013</td>\n",
       "      <td>92.0</td>\n",
       "      <td>4.0</td>\n",
       "      <td>14.9</td>\n",
       "      <td>1.1</td>\n",
       "      <td>4964</td>\n",
       "      <td>...</td>\n",
       "      <td>0.30</td>\n",
       "      <td>1.78</td>\n",
       "      <td>0.12</td>\n",
       "      <td>12.25</td>\n",
       "      <td>0.30</td>\n",
       "      <td>1.92</td>\n",
       "      <td>0.13</td>\n",
       "      <td>12.74</td>\n",
       "      <td>0.31</td>\n",
       "      <td>1</td>\n",
       "    </tr>\n",
       "    <tr>\n",
       "      <th>12243</th>\n",
       "      <td>13.57</td>\n",
       "      <td>32.48</td>\n",
       "      <td>1.44</td>\n",
       "      <td>4.094</td>\n",
       "      <td>0.081</td>\n",
       "      <td>131.6</td>\n",
       "      <td>6.7</td>\n",
       "      <td>13.8</td>\n",
       "      <td>1.6</td>\n",
       "      <td>5127</td>\n",
       "      <td>...</td>\n",
       "      <td>0.68</td>\n",
       "      <td>1.17</td>\n",
       "      <td>0.19</td>\n",
       "      <td>10.87</td>\n",
       "      <td>0.69</td>\n",
       "      <td>1.16</td>\n",
       "      <td>0.19</td>\n",
       "      <td>10.83</td>\n",
       "      <td>0.68</td>\n",
       "      <td>2</td>\n",
       "    </tr>\n",
       "  </tbody>\n",
       "</table>\n",
       "<p>10 rows × 28 columns</p>\n",
       "</div>"
      ],
      "text/plain": [
       "       kpmag   numax  e_numax   delnu  e_delnu      a    e_a  width e_width  \\\n",
       "3648   12.76   57.39     0.70   5.327    0.011   48.0    1.8   20.6     1.6   \n",
       "13079  13.85  161.06     1.75  12.872    0.031   31.8    2.5   56.4     7.3   \n",
       "1217   11.64  249.68     2.15  18.228    0.034                                \n",
       "2845   12.59   58.86     0.62   6.110    0.015   92.6    3.9   18.1     0.7   \n",
       "11472  15.02  137.03     0.88  12.200    0.021   59.2    3.6   36.4     2.7   \n",
       "10746  13.31   31.76     0.72   4.166    0.064  164.6    8.0   13.8     1.9   \n",
       "11418  12.89  172.93     1.12  13.918    0.019   37.3    1.2   50.2     2.1   \n",
       "12792  10.54   74.32     1.95   5.839    0.043   22.2    1.5   24.2     2.5   \n",
       "6984   12.49   39.53     0.46   4.150    0.013   92.0    4.0   14.9     1.1   \n",
       "12243  13.57   32.48     1.44   4.094    0.081  131.6    6.7   13.8     1.6   \n",
       "\n",
       "       teff  ...  e_nocorr  rgbcorm  e_rgbcorm  rgbcorr  e_rgbcorr  clcorm  \\\n",
       "3648   4891  ...      0.23     1.94       0.11    10.67       0.22    2.11   \n",
       "13079  5243  ...      0.13     1.49       0.10     5.47       0.13    1.53   \n",
       "1217   5151  ...      0.08     1.31       0.07     4.14       0.08    1.38   \n",
       "2845   4635  ...      0.17     1.03       0.06     7.77       0.16    1.16   \n",
       "11472  5178  ...      0.11     1.13       0.07     5.19       0.11    1.13   \n",
       "10746  4875  ...      0.43     0.96       0.11    10.09       0.44    0.93   \n",
       "11418  5223  ...      0.12     1.36       0.09     5.05       0.12    1.37   \n",
       "12792  5145  ...      0.42     3.77       0.36    12.89       0.45    3.72   \n",
       "6984   4964  ...      0.30     1.78       0.12    12.25       0.30    1.92   \n",
       "12243  5127  ...      0.68     1.17       0.19    10.87       0.69    1.16   \n",
       "\n",
       "       e_clcorm  clcorr  e_clcorr  phase  \n",
       "3648       0.12   11.11      0.23      1  \n",
       "13079      0.10    5.55      0.13      1  \n",
       "1217       0.07    4.25      0.08      1  \n",
       "2845       0.06    8.25      0.17      1  \n",
       "11472      0.07    5.19      0.11      1  \n",
       "10746      0.10    9.92      0.43      2  \n",
       "11418      0.09    5.07      0.12      1  \n",
       "12792      0.36   12.79      0.45      2  \n",
       "6984       0.13   12.74      0.31      1  \n",
       "12243      0.19   10.83      0.68      2  \n",
       "\n",
       "[10 rows x 28 columns]"
      ]
     },
     "execution_count": 2,
     "metadata": {},
     "output_type": "execute_result"
    }
   ],
   "source": [
    "upload = pd.read_csv('raw_data.csv').rename(str.lower, axis='columns')\n",
    "upload.sample(10)"
   ]
  },
  {
   "cell_type": "code",
   "execution_count": 3,
   "id": "785ea4ab",
   "metadata": {},
   "outputs": [],
   "source": [
    "df = upload.copy()"
   ]
  },
  {
   "cell_type": "markdown",
   "id": "6ef4d70b",
   "metadata": {},
   "source": [
    "## column removal"
   ]
  },
  {
   "cell_type": "code",
   "execution_count": 4,
   "id": "ec402cea",
   "metadata": {},
   "outputs": [],
   "source": [
    "col_df = df.copy()"
   ]
  },
  {
   "cell_type": "markdown",
   "id": "d28fd6d0",
   "metadata": {},
   "source": [
    "columns that start in *e_* describe the error in measurement, and are irrelevant for the calculation process."
   ]
  },
  {
   "cell_type": "code",
   "execution_count": 5,
   "id": "68dbaaec",
   "metadata": {},
   "outputs": [
    {
     "data": {
      "text/plain": [
       "Index(['kpmag', 'numax', 'delnu', 'a', 'width', 'teff', 'log(g)', '[fe/h]',\n",
       "       'nocorm', 'nocorr', 'rgbcorm', 'rgbcorr', 'clcorm', 'clcorr', 'phase'],\n",
       "      dtype='object')"
      ]
     },
     "execution_count": 5,
     "metadata": {},
     "output_type": "execute_result"
    }
   ],
   "source": [
    "col_df.drop(\n",
    "    columns=df.columns[\n",
    "        df.columns.str.contains('e_')],\n",
    "    inplace=True)\n",
    "\n",
    "col_df.columns"
   ]
  },
  {
   "cell_type": "markdown",
   "id": "f46b9914",
   "metadata": {},
   "source": [
    "the mass and radius corrections can be averaged"
   ]
  },
  {
   "cell_type": "code",
   "execution_count": 6,
   "id": "15088908",
   "metadata": {},
   "outputs": [
    {
     "data": {
      "text/html": [
       "<div>\n",
       "<style scoped>\n",
       "    .dataframe tbody tr th:only-of-type {\n",
       "        vertical-align: middle;\n",
       "    }\n",
       "\n",
       "    .dataframe tbody tr th {\n",
       "        vertical-align: top;\n",
       "    }\n",
       "\n",
       "    .dataframe thead th {\n",
       "        text-align: right;\n",
       "    }\n",
       "</style>\n",
       "<table border=\"1\" class=\"dataframe\">\n",
       "  <thead>\n",
       "    <tr style=\"text-align: right;\">\n",
       "      <th></th>\n",
       "      <th>nocorm</th>\n",
       "      <th>nocorr</th>\n",
       "      <th>rgbcorm</th>\n",
       "      <th>rgbcorr</th>\n",
       "      <th>clcorm</th>\n",
       "      <th>clcorr</th>\n",
       "    </tr>\n",
       "  </thead>\n",
       "  <tbody>\n",
       "    <tr>\n",
       "      <th>9220</th>\n",
       "      <td>1.58</td>\n",
       "      <td>5.49</td>\n",
       "      <td>1.57</td>\n",
       "      <td>5.47</td>\n",
       "      <td>1.60</td>\n",
       "      <td>5.53</td>\n",
       "    </tr>\n",
       "    <tr>\n",
       "      <th>6983</th>\n",
       "      <td>1.23</td>\n",
       "      <td>10.82</td>\n",
       "      <td>1.15</td>\n",
       "      <td>10.49</td>\n",
       "      <td>1.24</td>\n",
       "      <td>10.86</td>\n",
       "    </tr>\n",
       "    <tr>\n",
       "      <th>7872</th>\n",
       "      <td>1.29</td>\n",
       "      <td>9.61</td>\n",
       "      <td>1.18</td>\n",
       "      <td>9.20</td>\n",
       "      <td>1.30</td>\n",
       "      <td>9.64</td>\n",
       "    </tr>\n",
       "  </tbody>\n",
       "</table>\n",
       "</div>"
      ],
      "text/plain": [
       "      nocorm  nocorr  rgbcorm  rgbcorr  clcorm  clcorr\n",
       "9220    1.58    5.49     1.57     5.47    1.60    5.53\n",
       "6983    1.23   10.82     1.15    10.49    1.24   10.86\n",
       "7872    1.29    9.61     1.18     9.20    1.30    9.64"
      ]
     },
     "execution_count": 6,
     "metadata": {},
     "output_type": "execute_result"
    }
   ],
   "source": [
    "col_df[col_df.columns[\n",
    "        col_df.columns.str.contains('cor')]\n",
    "          ].sample(3)"
   ]
  },
  {
   "cell_type": "code",
   "execution_count": 7,
   "id": "b0846060",
   "metadata": {},
   "outputs": [
    {
     "data": {
      "text/html": [
       "<div>\n",
       "<style scoped>\n",
       "    .dataframe tbody tr th:only-of-type {\n",
       "        vertical-align: middle;\n",
       "    }\n",
       "\n",
       "    .dataframe tbody tr th {\n",
       "        vertical-align: top;\n",
       "    }\n",
       "\n",
       "    .dataframe thead th {\n",
       "        text-align: right;\n",
       "    }\n",
       "</style>\n",
       "<table border=\"1\" class=\"dataframe\">\n",
       "  <thead>\n",
       "    <tr style=\"text-align: right;\">\n",
       "      <th></th>\n",
       "      <th>kpmag</th>\n",
       "      <th>numax</th>\n",
       "      <th>delnu</th>\n",
       "      <th>a</th>\n",
       "      <th>width</th>\n",
       "      <th>teff</th>\n",
       "      <th>log(g)</th>\n",
       "      <th>[fe/h]</th>\n",
       "      <th>phase</th>\n",
       "      <th>rad</th>\n",
       "      <th>mass</th>\n",
       "    </tr>\n",
       "  </thead>\n",
       "  <tbody>\n",
       "    <tr>\n",
       "      <th>3650</th>\n",
       "      <td>13.620</td>\n",
       "      <td>33.10</td>\n",
       "      <td>4.057</td>\n",
       "      <td>125.2</td>\n",
       "      <td>13.4</td>\n",
       "      <td>5059</td>\n",
       "      <td>2.439</td>\n",
       "      <td>-0.08</td>\n",
       "      <td>2</td>\n",
       "      <td>33.44</td>\n",
       "      <td>3.74</td>\n",
       "    </tr>\n",
       "    <tr>\n",
       "      <th>12822</th>\n",
       "      <td>12.660</td>\n",
       "      <td>18.84</td>\n",
       "      <td>2.505</td>\n",
       "      <td>205.3</td>\n",
       "      <td>7.9</td>\n",
       "      <td>4392</td>\n",
       "      <td>2.164</td>\n",
       "      <td>-0.19</td>\n",
       "      <td>2</td>\n",
       "      <td>45.09</td>\n",
       "      <td>3.61</td>\n",
       "    </tr>\n",
       "    <tr>\n",
       "      <th>14788</th>\n",
       "      <td>13.390</td>\n",
       "      <td>45.90</td>\n",
       "      <td>4.980</td>\n",
       "      <td>74.9</td>\n",
       "      <td>17.6</td>\n",
       "      <td>4990</td>\n",
       "      <td>2.578</td>\n",
       "      <td>-0.09</td>\n",
       "      <td>1</td>\n",
       "      <td>30.41</td>\n",
       "      <td>4.26</td>\n",
       "    </tr>\n",
       "    <tr>\n",
       "      <th>12709</th>\n",
       "      <td>12.910</td>\n",
       "      <td>29.27</td>\n",
       "      <td>3.860</td>\n",
       "      <td>132.7</td>\n",
       "      <td>13.2</td>\n",
       "      <td>4835</td>\n",
       "      <td>2.376</td>\n",
       "      <td>-0.11</td>\n",
       "      <td>2</td>\n",
       "      <td>31.63</td>\n",
       "      <td>2.90</td>\n",
       "    </tr>\n",
       "    <tr>\n",
       "      <th>5734</th>\n",
       "      <td>9.270</td>\n",
       "      <td>37.03</td>\n",
       "      <td>3.859</td>\n",
       "      <td>80.3</td>\n",
       "      <td>15.9</td>\n",
       "      <td>4707</td>\n",
       "      <td>2.472</td>\n",
       "      <td>0.05</td>\n",
       "      <td>2</td>\n",
       "      <td>39.29</td>\n",
       "      <td>5.56</td>\n",
       "    </tr>\n",
       "    <tr>\n",
       "      <th>8449</th>\n",
       "      <td>11.040</td>\n",
       "      <td>170.22</td>\n",
       "      <td>13.901</td>\n",
       "      <td>43.0</td>\n",
       "      <td>46.4</td>\n",
       "      <td>4893</td>\n",
       "      <td>3.143</td>\n",
       "      <td>-0.05</td>\n",
       "      <td>1</td>\n",
       "      <td>14.29</td>\n",
       "      <td>3.45</td>\n",
       "    </tr>\n",
       "    <tr>\n",
       "      <th>14528</th>\n",
       "      <td>12.460</td>\n",
       "      <td>35.68</td>\n",
       "      <td>4.328</td>\n",
       "      <td>98.7</td>\n",
       "      <td>14.5</td>\n",
       "      <td>5244</td>\n",
       "      <td>2.480</td>\n",
       "      <td>-0.11</td>\n",
       "      <td>2</td>\n",
       "      <td>32.44</td>\n",
       "      <td>3.86</td>\n",
       "    </tr>\n",
       "    <tr>\n",
       "      <th>13813</th>\n",
       "      <td>14.951</td>\n",
       "      <td>211.58</td>\n",
       "      <td>16.769</td>\n",
       "      <td></td>\n",
       "      <td></td>\n",
       "      <td>5246</td>\n",
       "      <td>3.253</td>\n",
       "      <td>-0.59</td>\n",
       "      <td>1</td>\n",
       "      <td>12.79</td>\n",
       "      <td>3.56</td>\n",
       "    </tr>\n",
       "    <tr>\n",
       "      <th>478</th>\n",
       "      <td>11.100</td>\n",
       "      <td>31.32</td>\n",
       "      <td>3.328</td>\n",
       "      <td>77.3</td>\n",
       "      <td>14.2</td>\n",
       "      <td>4937</td>\n",
       "      <td>2.410</td>\n",
       "      <td>0.10</td>\n",
       "      <td>2</td>\n",
       "      <td>46.36</td>\n",
       "      <td>6.71</td>\n",
       "    </tr>\n",
       "    <tr>\n",
       "      <th>13228</th>\n",
       "      <td>13.230</td>\n",
       "      <td>38.36</td>\n",
       "      <td>4.215</td>\n",
       "      <td>93.8</td>\n",
       "      <td>14.4</td>\n",
       "      <td>4779</td>\n",
       "      <td>2.491</td>\n",
       "      <td>0.19</td>\n",
       "      <td>2</td>\n",
       "      <td>34.55</td>\n",
       "      <td>4.49</td>\n",
       "    </tr>\n",
       "  </tbody>\n",
       "</table>\n",
       "</div>"
      ],
      "text/plain": [
       "        kpmag   numax   delnu      a  width  teff  log(g)  [fe/h]  phase  \\\n",
       "3650   13.620   33.10   4.057  125.2   13.4  5059   2.439   -0.08      2   \n",
       "12822  12.660   18.84   2.505  205.3    7.9  4392   2.164   -0.19      2   \n",
       "14788  13.390   45.90   4.980   74.9   17.6  4990   2.578   -0.09      1   \n",
       "12709  12.910   29.27   3.860  132.7   13.2  4835   2.376   -0.11      2   \n",
       "5734    9.270   37.03   3.859   80.3   15.9  4707   2.472    0.05      2   \n",
       "8449   11.040  170.22  13.901   43.0   46.4  4893   3.143   -0.05      1   \n",
       "14528  12.460   35.68   4.328   98.7   14.5  5244   2.480   -0.11      2   \n",
       "13813  14.951  211.58  16.769                5246   3.253   -0.59      1   \n",
       "478    11.100   31.32   3.328   77.3   14.2  4937   2.410    0.10      2   \n",
       "13228  13.230   38.36   4.215   93.8   14.4  4779   2.491    0.19      2   \n",
       "\n",
       "         rad  mass  \n",
       "3650   33.44  3.74  \n",
       "12822  45.09  3.61  \n",
       "14788  30.41  4.26  \n",
       "12709  31.63  2.90  \n",
       "5734   39.29  5.56  \n",
       "8449   14.29  3.45  \n",
       "14528  32.44  3.86  \n",
       "13813  12.79  3.56  \n",
       "478    46.36  6.71  \n",
       "13228  34.55  4.49  "
      ]
     },
     "execution_count": 7,
     "metadata": {},
     "output_type": "execute_result"
    }
   ],
   "source": [
    "col_df['rad'] = col_df.nocorr + col_df.rgbcorr + col_df.clcorr\n",
    "col_df['mass'] = col_df.nocorm + col_df.rgbcorm + col_df.clcorm\n",
    "\n",
    "col_df.drop(\n",
    "    columns=col_df.columns[\n",
    "        col_df.columns.str.contains('cor')],\n",
    "    inplace=True)\n",
    "\n",
    "col_df.sample(10)"
   ]
  },
  {
   "cell_type": "markdown",
   "id": "53d62320",
   "metadata": {},
   "source": [
    "renaming and reordering columns"
   ]
  },
  {
   "cell_type": "code",
   "execution_count": 8,
   "id": "3ddcd891",
   "metadata": {},
   "outputs": [],
   "source": [
    "col_df.rename(\n",
    "    {\n",
    "        'kpmag': 'ap_mag',  # apparent magnitude (brightness)\n",
    "        'numax': 'freq',  # maximum oscillation frequency\n",
    "        'delnu': 'fr_sep',  # frequency separation of oscillation modes\n",
    "        'a': 'amp',  # oscillation amplitude\n",
    "        'width': 'pow_ex',  # power excess width\n",
    "        'teff': 'temp',  # effective temperature\n",
    "        'log(g)': 'grav', # surface gravity logarithm\n",
    "        '[fe/h]': 'metal',  # metallicity\n",
    "    },\n",
    "axis='columns',\n",
    "inplace=True)"
   ]
  },
  {
   "cell_type": "code",
   "execution_count": 9,
   "id": "d8b18cdd",
   "metadata": {},
   "outputs": [
    {
     "data": {
      "text/plain": [
       "Index(['phase', 'ap_mag', 'freq', 'fr_sep', 'amp', 'pow_ex', 'temp', 'grav',\n",
       "       'metal', 'rad', 'mass'],\n",
       "      dtype='object')"
      ]
     },
     "execution_count": 9,
     "metadata": {},
     "output_type": "execute_result"
    }
   ],
   "source": [
    "col_df = col_df[['phase'] + list(col_df.columns.drop('phase'))]\n",
    "col_df.columns"
   ]
  },
  {
   "cell_type": "code",
   "execution_count": 10,
   "id": "816807c8",
   "metadata": {},
   "outputs": [],
   "source": [
    "df = col_df.copy()"
   ]
  },
  {
   "cell_type": "markdown",
   "id": "1fbe6616",
   "metadata": {},
   "source": [
    "## nulls"
   ]
  },
  {
   "cell_type": "code",
   "execution_count": 11,
   "id": "1f6f3fa8",
   "metadata": {},
   "outputs": [],
   "source": [
    "null_df = df.copy()"
   ]
  },
  {
   "cell_type": "code",
   "execution_count": 12,
   "id": "37a5368e",
   "metadata": {},
   "outputs": [
    {
     "data": {
      "text/plain": [
       "phase     0\n",
       "ap_mag    0\n",
       "freq      0\n",
       "fr_sep    0\n",
       "amp       0\n",
       "pow_ex    0\n",
       "temp      0\n",
       "grav      0\n",
       "metal     0\n",
       "rad       0\n",
       "mass      0\n",
       "dtype: int64"
      ]
     },
     "execution_count": 12,
     "metadata": {},
     "output_type": "execute_result"
    }
   ],
   "source": [
    "null_df.isnull().sum()"
   ]
  },
  {
   "cell_type": "markdown",
   "id": "ab04d90d",
   "metadata": {},
   "source": [
    "that's not true, and the dtypes hold a hint:"
   ]
  },
  {
   "cell_type": "code",
   "execution_count": 13,
   "id": "09bd6a02",
   "metadata": {},
   "outputs": [
    {
     "data": {
      "text/plain": [
       "phase       int64\n",
       "ap_mag    float64\n",
       "freq      float64\n",
       "fr_sep    float64\n",
       "amp        object\n",
       "pow_ex     object\n",
       "temp        int64\n",
       "grav      float64\n",
       "metal     float64\n",
       "rad       float64\n",
       "mass      float64\n",
       "dtype: object"
      ]
     },
     "execution_count": 13,
     "metadata": {},
     "output_type": "execute_result"
    }
   ],
   "source": [
    "null_df.dtypes"
   ]
  },
  {
   "cell_type": "markdown",
   "id": "36477b46",
   "metadata": {},
   "source": [
    "apparently there are spaces in certain expressions and empty strings instead of nulls"
   ]
  },
  {
   "cell_type": "code",
   "execution_count": 14,
   "id": "482a6468",
   "metadata": {},
   "outputs": [
    {
     "name": "stdout",
     "output_type": "stream",
     "text": [
      "vals with spaces: 9185\n",
      "nulls post cleanup: 537\n"
     ]
    }
   ],
   "source": [
    "print('vals with spaces:', null_df.amp.str.contains(' ').sum())\n",
    "null_df['amp'] = df.amp.str.replace(' ', ''\n",
    "                  ).replace('', np.nan\n",
    "                           ).astype(float)\n",
    "print('nulls post cleanup:', null_df.amp.isnull().sum())"
   ]
  },
  {
   "cell_type": "code",
   "execution_count": 15,
   "id": "de3fdd03",
   "metadata": {},
   "outputs": [
    {
     "name": "stdout",
     "output_type": "stream",
     "text": [
      "vals with spaces: 15387\n",
      "nulls post cleanup: 537\n"
     ]
    }
   ],
   "source": [
    "print('vals with spaces:', null_df.pow_ex.str.contains(' ').sum())\n",
    "null_df['pow_ex'] = df.pow_ex.str.replace(' ', ''\n",
    "                  ).replace('', np.nan\n",
    "                           ).astype(float)\n",
    "print('nulls post cleanup:', null_df.pow_ex.isnull().sum())"
   ]
  },
  {
   "cell_type": "code",
   "execution_count": 16,
   "id": "04bd9b49",
   "metadata": {},
   "outputs": [
    {
     "data": {
      "text/plain": [
       "phase       int64\n",
       "ap_mag    float64\n",
       "freq      float64\n",
       "fr_sep    float64\n",
       "amp       float64\n",
       "pow_ex    float64\n",
       "temp        int64\n",
       "grav      float64\n",
       "metal     float64\n",
       "rad       float64\n",
       "mass      float64\n",
       "dtype: object"
      ]
     },
     "execution_count": 16,
     "metadata": {},
     "output_type": "execute_result"
    }
   ],
   "source": [
    "null_df.dtypes"
   ]
  },
  {
   "cell_type": "markdown",
   "id": "1b037470",
   "metadata": {},
   "source": [
    "and what about zeros?"
   ]
  },
  {
   "cell_type": "code",
   "execution_count": 17,
   "id": "4496c920",
   "metadata": {},
   "outputs": [
    {
     "data": {
      "text/plain": [
       "0"
      ]
     },
     "execution_count": 17,
     "metadata": {},
     "output_type": "execute_result"
    }
   ],
   "source": [
    "null_df[null_df == 0].any(axis='columns').sum()"
   ]
  },
  {
   "cell_type": "code",
   "execution_count": 18,
   "id": "91aa12d5",
   "metadata": {},
   "outputs": [],
   "source": [
    "df = null_df.copy()"
   ]
  },
  {
   "cell_type": "markdown",
   "id": "6a6996ad",
   "metadata": {},
   "source": [
    "## export"
   ]
  },
  {
   "cell_type": "code",
   "execution_count": 19,
   "id": "b72e80a6",
   "metadata": {},
   "outputs": [],
   "source": [
    "export_df = df.copy()"
   ]
  },
  {
   "cell_type": "markdown",
   "id": "43c62c19",
   "metadata": {},
   "source": [
    "change phase names for clarity"
   ]
  },
  {
   "cell_type": "code",
   "execution_count": 20,
   "id": "c3e06bda",
   "metadata": {},
   "outputs": [
    {
     "data": {
      "text/plain": [
       "HeB    7703\n",
       "RGB    7685\n",
       "Name: phase, dtype: int64"
      ]
     },
     "execution_count": 20,
     "metadata": {},
     "output_type": "execute_result"
    }
   ],
   "source": [
    "export_df.phase.replace({\n",
    "    1: 'RGB', # Red Giant Branch\n",
    "    2: 'HeB', # Helium Burning Phase\n",
    "}, inplace=True)\n",
    "export_df.phase.value_counts()"
   ]
  },
  {
   "cell_type": "code",
   "execution_count": 21,
   "id": "6c68b5de",
   "metadata": {},
   "outputs": [],
   "source": [
    "export_df.to_csv('clean_data.csv', index=False)"
   ]
  }
 ],
 "metadata": {
  "kernelspec": {
   "display_name": "Python 3 (ipykernel)",
   "language": "python",
   "name": "python3"
  },
  "language_info": {
   "codemirror_mode": {
    "name": "ipython",
    "version": 3
   },
   "file_extension": ".py",
   "mimetype": "text/x-python",
   "name": "python",
   "nbconvert_exporter": "python",
   "pygments_lexer": "ipython3",
   "version": "3.9.7"
  },
  "toc": {
   "base_numbering": 1,
   "nav_menu": {},
   "number_sections": true,
   "sideBar": true,
   "skip_h1_title": false,
   "title_cell": "Table of Contents",
   "title_sidebar": "Contents",
   "toc_cell": false,
   "toc_position": {},
   "toc_section_display": true,
   "toc_window_display": false
  }
 },
 "nbformat": 4,
 "nbformat_minor": 5
}
